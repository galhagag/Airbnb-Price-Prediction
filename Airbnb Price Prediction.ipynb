{
 "cells": [
  {
   "cell_type": "code",
   "execution_count": 363,
   "metadata": {
    "colab": {},
    "colab_type": "code",
    "id": "ivjc2ubvJyL_"
   },
   "outputs": [],
   "source": [
    "import pandas as pd\n",
    "import numpy as np\n",
    "import re\n",
    "import matplotlib.pyplot as plt\n",
    "import seaborn as sns\n",
    "from sklearn import linear_model\n",
    "from sklearn.model_selection import train_test_split\n",
    "from sklearn.linear_model import LinearRegression, Lasso, Ridge\n",
    "from sklearn.tree import DecisionTreeRegressor, export_graphviz\n",
    "from sklearn.preprocessing import StandardScaler, MinMaxScaler, MaxAbsScaler\n",
    "from sklearn.model_selection import GridSearchCV\n",
    "from sklearn.pipeline import Pipeline\n",
    "\n",
    "from sklearn.metrics import mean_squared_error\n",
    "\n",
    "import warnings\n",
    "warnings.filterwarnings('ignore')\n",
    "\n",
    "import pydot\n",
    "from IPython.display import Image\n",
    "from sklearn.externals.six import StringIO\n",
    "\n",
    "%matplotlib inline"
   ]
  },
  {
   "cell_type": "markdown",
   "metadata": {
    "colab_type": "text",
    "id": "YW6rfxwTJyMB"
   },
   "source": [
    "## Importing the database"
   ]
  },
  {
   "cell_type": "code",
   "execution_count": 364,
   "metadata": {
    "colab": {
     "base_uri": "https://localhost:8080/",
     "height": 398
    },
    "colab_type": "code",
    "executionInfo": {
     "elapsed": 610,
     "status": "error",
     "timestamp": 1558857732210,
     "user": {
      "displayName": "gal hagag",
      "photoUrl": "",
      "userId": "08207006583553274276"
     },
     "user_tz": -180
    },
    "id": "pPkUsl4OJyMC",
    "outputId": "f86ad3a6-f690-4eb4-8251-ad118a0cc7a9"
   },
   "outputs": [
    {
     "data": {
      "text/plain": [
       "(74111, 28)"
      ]
     },
     "execution_count": 364,
     "metadata": {},
     "output_type": "execute_result"
    }
   ],
   "source": [
    "bnb = pd.read_csv('train.csv', index_col='id')\n",
    "bnb.shape"
   ]
  },
  {
   "cell_type": "code",
   "execution_count": 365,
   "metadata": {
    "colab": {},
    "colab_type": "code",
    "id": "LoXyLCo8JyMF"
   },
   "outputs": [
    {
     "data": {
      "text/html": [
       "<div>\n",
       "<style scoped>\n",
       "    .dataframe tbody tr th:only-of-type {\n",
       "        vertical-align: middle;\n",
       "    }\n",
       "\n",
       "    .dataframe tbody tr th {\n",
       "        vertical-align: top;\n",
       "    }\n",
       "\n",
       "    .dataframe thead th {\n",
       "        text-align: right;\n",
       "    }\n",
       "</style>\n",
       "<table border=\"1\" class=\"dataframe\">\n",
       "  <thead>\n",
       "    <tr style=\"text-align: right;\">\n",
       "      <th></th>\n",
       "      <th>log_price</th>\n",
       "      <th>property_type</th>\n",
       "      <th>room_type</th>\n",
       "      <th>amenities</th>\n",
       "      <th>accommodates</th>\n",
       "      <th>bathrooms</th>\n",
       "      <th>bed_type</th>\n",
       "      <th>cancellation_policy</th>\n",
       "      <th>cleaning_fee</th>\n",
       "      <th>city</th>\n",
       "      <th>...</th>\n",
       "      <th>latitude</th>\n",
       "      <th>longitude</th>\n",
       "      <th>name</th>\n",
       "      <th>neighbourhood</th>\n",
       "      <th>number_of_reviews</th>\n",
       "      <th>review_scores_rating</th>\n",
       "      <th>thumbnail_url</th>\n",
       "      <th>zipcode</th>\n",
       "      <th>bedrooms</th>\n",
       "      <th>beds</th>\n",
       "    </tr>\n",
       "    <tr>\n",
       "      <th>id</th>\n",
       "      <th></th>\n",
       "      <th></th>\n",
       "      <th></th>\n",
       "      <th></th>\n",
       "      <th></th>\n",
       "      <th></th>\n",
       "      <th></th>\n",
       "      <th></th>\n",
       "      <th></th>\n",
       "      <th></th>\n",
       "      <th></th>\n",
       "      <th></th>\n",
       "      <th></th>\n",
       "      <th></th>\n",
       "      <th></th>\n",
       "      <th></th>\n",
       "      <th></th>\n",
       "      <th></th>\n",
       "      <th></th>\n",
       "      <th></th>\n",
       "      <th></th>\n",
       "    </tr>\n",
       "  </thead>\n",
       "  <tbody>\n",
       "    <tr>\n",
       "      <th>6901257</th>\n",
       "      <td>5.010635</td>\n",
       "      <td>Apartment</td>\n",
       "      <td>Entire home/apt</td>\n",
       "      <td>{\"Wireless Internet\",\"Air conditioning\",Kitche...</td>\n",
       "      <td>3</td>\n",
       "      <td>1.0</td>\n",
       "      <td>Real Bed</td>\n",
       "      <td>strict</td>\n",
       "      <td>True</td>\n",
       "      <td>NYC</td>\n",
       "      <td>...</td>\n",
       "      <td>40.696524</td>\n",
       "      <td>-73.991617</td>\n",
       "      <td>Beautiful brownstone 1-bedroom</td>\n",
       "      <td>Brooklyn Heights</td>\n",
       "      <td>2</td>\n",
       "      <td>100.0</td>\n",
       "      <td>https://a0.muscache.com/im/pictures/6d7cbbf7-c...</td>\n",
       "      <td>11201</td>\n",
       "      <td>1.0</td>\n",
       "      <td>1.0</td>\n",
       "    </tr>\n",
       "    <tr>\n",
       "      <th>6304928</th>\n",
       "      <td>5.129899</td>\n",
       "      <td>Apartment</td>\n",
       "      <td>Entire home/apt</td>\n",
       "      <td>{\"Wireless Internet\",\"Air conditioning\",Kitche...</td>\n",
       "      <td>7</td>\n",
       "      <td>1.0</td>\n",
       "      <td>Real Bed</td>\n",
       "      <td>strict</td>\n",
       "      <td>True</td>\n",
       "      <td>NYC</td>\n",
       "      <td>...</td>\n",
       "      <td>40.766115</td>\n",
       "      <td>-73.989040</td>\n",
       "      <td>Superb 3BR Apt Located Near Times Square</td>\n",
       "      <td>Hell's Kitchen</td>\n",
       "      <td>6</td>\n",
       "      <td>93.0</td>\n",
       "      <td>https://a0.muscache.com/im/pictures/348a55fe-4...</td>\n",
       "      <td>10019</td>\n",
       "      <td>3.0</td>\n",
       "      <td>3.0</td>\n",
       "    </tr>\n",
       "  </tbody>\n",
       "</table>\n",
       "<p>2 rows × 28 columns</p>\n",
       "</div>"
      ],
      "text/plain": [
       "         log_price property_type        room_type  \\\n",
       "id                                                  \n",
       "6901257   5.010635     Apartment  Entire home/apt   \n",
       "6304928   5.129899     Apartment  Entire home/apt   \n",
       "\n",
       "                                                 amenities  accommodates  \\\n",
       "id                                                                         \n",
       "6901257  {\"Wireless Internet\",\"Air conditioning\",Kitche...             3   \n",
       "6304928  {\"Wireless Internet\",\"Air conditioning\",Kitche...             7   \n",
       "\n",
       "         bathrooms  bed_type cancellation_policy  cleaning_fee city  ...  \\\n",
       "id                                                                   ...   \n",
       "6901257        1.0  Real Bed              strict          True  NYC  ...   \n",
       "6304928        1.0  Real Bed              strict          True  NYC  ...   \n",
       "\n",
       "          latitude  longitude                                      name  \\\n",
       "id                                                                        \n",
       "6901257  40.696524 -73.991617            Beautiful brownstone 1-bedroom   \n",
       "6304928  40.766115 -73.989040  Superb 3BR Apt Located Near Times Square   \n",
       "\n",
       "            neighbourhood number_of_reviews review_scores_rating  \\\n",
       "id                                                                 \n",
       "6901257  Brooklyn Heights                 2                100.0   \n",
       "6304928    Hell's Kitchen                 6                 93.0   \n",
       "\n",
       "                                             thumbnail_url zipcode  bedrooms  \\\n",
       "id                                                                             \n",
       "6901257  https://a0.muscache.com/im/pictures/6d7cbbf7-c...   11201       1.0   \n",
       "6304928  https://a0.muscache.com/im/pictures/348a55fe-4...   10019       3.0   \n",
       "\n",
       "         beds  \n",
       "id             \n",
       "6901257   1.0  \n",
       "6304928   3.0  \n",
       "\n",
       "[2 rows x 28 columns]"
      ]
     },
     "execution_count": 365,
     "metadata": {},
     "output_type": "execute_result"
    }
   ],
   "source": [
    "bnb.head(2)"
   ]
  },
  {
   "cell_type": "markdown",
   "metadata": {
    "colab_type": "text",
    "id": "Zk3_mPo3JyMI"
   },
   "source": [
    "## Preprocessing and data cleansing"
   ]
  },
  {
   "cell_type": "code",
   "execution_count": 366,
   "metadata": {
    "colab": {},
    "colab_type": "code",
    "id": "xMY1oJMyJyMI"
   },
   "outputs": [
    {
     "name": "stdout",
     "output_type": "stream",
     "text": [
      "<class 'pandas.core.frame.DataFrame'>\n",
      "Int64Index: 74111 entries, 6901257 to 3534845\n",
      "Data columns (total 28 columns):\n",
      "log_price                 74111 non-null float64\n",
      "property_type             74111 non-null object\n",
      "room_type                 74111 non-null object\n",
      "amenities                 74111 non-null object\n",
      "accommodates              74111 non-null int64\n",
      "bathrooms                 73911 non-null float64\n",
      "bed_type                  74111 non-null object\n",
      "cancellation_policy       74111 non-null object\n",
      "cleaning_fee              74111 non-null bool\n",
      "city                      74111 non-null object\n",
      "description               74111 non-null object\n",
      "first_review              58247 non-null object\n",
      "host_has_profile_pic      73923 non-null object\n",
      "host_identity_verified    73923 non-null object\n",
      "host_response_rate        55812 non-null object\n",
      "host_since                73923 non-null object\n",
      "instant_bookable          74111 non-null object\n",
      "last_review               58284 non-null object\n",
      "latitude                  74111 non-null float64\n",
      "longitude                 74111 non-null float64\n",
      "name                      74111 non-null object\n",
      "neighbourhood             67239 non-null object\n",
      "number_of_reviews         74111 non-null int64\n",
      "review_scores_rating      57389 non-null float64\n",
      "thumbnail_url             65895 non-null object\n",
      "zipcode                   73145 non-null object\n",
      "bedrooms                  74020 non-null float64\n",
      "beds                      73980 non-null float64\n",
      "dtypes: bool(1), float64(7), int64(2), object(18)\n",
      "memory usage: 15.9+ MB\n"
     ]
    }
   ],
   "source": [
    "bnb.info()"
   ]
  },
  {
   "cell_type": "markdown",
   "metadata": {
    "colab_type": "text",
    "id": "kZq1OAaRJyMK"
   },
   "source": [
    "> There are some missing values in the data set\n",
    "\n",
    "> Some features are not in the right type"
   ]
  },
  {
   "cell_type": "code",
   "execution_count": 367,
   "metadata": {
    "colab": {},
    "colab_type": "code",
    "id": "F3ENKf-dJyML"
   },
   "outputs": [
    {
     "data": {
      "text/plain": [
       "log_price                   767\n",
       "property_type                35\n",
       "room_type                     3\n",
       "amenities                 67122\n",
       "accommodates                 16\n",
       "bathrooms                    17\n",
       "bed_type                      5\n",
       "cancellation_policy           5\n",
       "cleaning_fee                  2\n",
       "city                          6\n",
       "description               73479\n",
       "first_review               2554\n",
       "host_has_profile_pic          2\n",
       "host_identity_verified        2\n",
       "host_response_rate           80\n",
       "host_since                 3087\n",
       "instant_bookable              2\n",
       "last_review                1371\n",
       "latitude                  74111\n",
       "longitude                 74111\n",
       "name                      73359\n",
       "neighbourhood               619\n",
       "number_of_reviews           371\n",
       "review_scores_rating         54\n",
       "thumbnail_url             65883\n",
       "zipcode                     769\n",
       "bedrooms                     11\n",
       "beds                         18\n",
       "dtype: int64"
      ]
     },
     "execution_count": 367,
     "metadata": {},
     "output_type": "execute_result"
    }
   ],
   "source": [
    "bnb.nunique()"
   ]
  },
  {
   "cell_type": "markdown",
   "metadata": {
    "colab_type": "text",
    "id": "AsHJONcYJyMN"
   },
   "source": [
    "> according to `description` and `name` it seems there are duplicated rows"
   ]
  },
  {
   "cell_type": "markdown",
   "metadata": {
    "colab_type": "text",
    "id": "LN2xXW0sJyMO"
   },
   "source": [
    "### Tranforming amenities into columns:"
   ]
  },
  {
   "cell_type": "code",
   "execution_count": 368,
   "metadata": {
    "colab": {},
    "colab_type": "code",
    "id": "cqUsLKZ0JyMO"
   },
   "outputs": [
    {
     "data": {
      "text/plain": [
       "74111"
      ]
     },
     "execution_count": 368,
     "metadata": {},
     "output_type": "execute_result"
    }
   ],
   "source": [
    "amenities = bnb.amenities.str.split(',')\n",
    "amenities = list(*zip(*amenities))\n",
    "len(amenities)"
   ]
  },
  {
   "cell_type": "code",
   "execution_count": 369,
   "metadata": {
    "colab": {},
    "colab_type": "code",
    "id": "33wIY5McJyMR"
   },
   "outputs": [
    {
     "name": "stdout",
     "output_type": "stream",
     "text": [
      "38\n"
     ]
    },
    {
     "data": {
      "text/plain": [
       "['Essentials',\n",
       " '\"Smoking allowed\"',\n",
       " '\"Self Check-In\"',\n",
       " '\"Stair gates\"',\n",
       " '\"Free parking on premises\"',\n",
       " '\"Host greets you\"',\n",
       " 'Breakfast',\n",
       " 'Internet',\n",
       " '\"Laptop friendly workspace\"',\n",
       " 'Elevator',\n",
       " 'Doorman',\n",
       " '\"Buzzer/wireless intercom\"',\n",
       " 'Gym',\n",
       " '\"Single level home\"',\n",
       " 'Shampoo',\n",
       " 'Kitchen',\n",
       " '\"Air conditioning\"',\n",
       " 'Heating',\n",
       " '\"Lock on bedroom door\"',\n",
       " '\"translation missing: en.hosting_amenity_50\"',\n",
       " 'Washer',\n",
       " 'Pool',\n",
       " '\"translation missing: en.hosting_amenity_49\"',\n",
       " '\"Wireless Internet\"',\n",
       " '\"First aid kit\"',\n",
       " 'TV',\n",
       " 'Stove',\n",
       " '\"Suitable for events\"',\n",
       " '\"Pets allowed\"',\n",
       " '\"Wheelchair accessible\"',\n",
       " '\"Elevator in building\"',\n",
       " '\"Wide entryway\"',\n",
       " '\"Family/kid friendly\"',\n",
       " '\"Fire extinguisher\"',\n",
       " '\"Pets live on this property\"',\n",
       " '\"Cable TV\"',\n",
       " '\"Smoke detector\"',\n",
       " '\"Carbon monoxide detector\"']"
      ]
     },
     "execution_count": 369,
     "metadata": {},
     "output_type": "execute_result"
    }
   ],
   "source": [
    "# removing duplicates:\n",
    "\n",
    "amenities = list(set([am.strip('{').strip('}').strip('{}}') for am in amenities])) # list of unique amenities\n",
    "amenities.remove('')\n",
    "print(len(amenities))\n",
    "amenities"
   ]
  },
  {
   "cell_type": "code",
   "execution_count": 370,
   "metadata": {
    "colab": {},
    "colab_type": "code",
    "id": "GySYEyj3JyMT"
   },
   "outputs": [
    {
     "data": {
      "text/plain": [
       "36"
      ]
     },
     "execution_count": 370,
     "metadata": {},
     "output_type": "execute_result"
    }
   ],
   "source": [
    "# removing untranslated values:\n",
    "\n",
    "for am in amenities:\n",
    "    if 'missing' in am:\n",
    "        amenities.remove(am)\n",
    "        \n",
    "len(amenities)"
   ]
  },
  {
   "cell_type": "code",
   "execution_count": 371,
   "metadata": {
    "colab": {},
    "colab_type": "code",
    "id": "Ixv83qwkJyMW"
   },
   "outputs": [],
   "source": [
    "# assigning new bool columns for amenities:\n",
    "\n",
    "for am in amenities:\n",
    "    bnb[am] = bnb.amenities.str.contains(am)\n",
    "\n",
    "bnb = bnb.drop(columns='amenities')"
   ]
  },
  {
   "cell_type": "code",
   "execution_count": 372,
   "metadata": {
    "colab": {},
    "colab_type": "code",
    "id": "5GRRo2vFJyMX"
   },
   "outputs": [
    {
     "data": {
      "text/html": [
       "<div>\n",
       "<style scoped>\n",
       "    .dataframe tbody tr th:only-of-type {\n",
       "        vertical-align: middle;\n",
       "    }\n",
       "\n",
       "    .dataframe tbody tr th {\n",
       "        vertical-align: top;\n",
       "    }\n",
       "\n",
       "    .dataframe thead th {\n",
       "        text-align: right;\n",
       "    }\n",
       "</style>\n",
       "<table border=\"1\" class=\"dataframe\">\n",
       "  <thead>\n",
       "    <tr style=\"text-align: right;\">\n",
       "      <th></th>\n",
       "      <th>log_price</th>\n",
       "      <th>property_type</th>\n",
       "      <th>room_type</th>\n",
       "      <th>accommodates</th>\n",
       "      <th>bathrooms</th>\n",
       "      <th>bed_type</th>\n",
       "      <th>cancellation_policy</th>\n",
       "      <th>cleaning_fee</th>\n",
       "      <th>city</th>\n",
       "      <th>description</th>\n",
       "      <th>...</th>\n",
       "      <th>\"Pets allowed\"</th>\n",
       "      <th>\"Wheelchair accessible\"</th>\n",
       "      <th>\"Elevator in building\"</th>\n",
       "      <th>\"Wide entryway\"</th>\n",
       "      <th>\"Family/kid friendly\"</th>\n",
       "      <th>\"Fire extinguisher\"</th>\n",
       "      <th>\"Pets live on this property\"</th>\n",
       "      <th>\"Cable TV\"</th>\n",
       "      <th>\"Smoke detector\"</th>\n",
       "      <th>\"Carbon monoxide detector\"</th>\n",
       "    </tr>\n",
       "    <tr>\n",
       "      <th>id</th>\n",
       "      <th></th>\n",
       "      <th></th>\n",
       "      <th></th>\n",
       "      <th></th>\n",
       "      <th></th>\n",
       "      <th></th>\n",
       "      <th></th>\n",
       "      <th></th>\n",
       "      <th></th>\n",
       "      <th></th>\n",
       "      <th></th>\n",
       "      <th></th>\n",
       "      <th></th>\n",
       "      <th></th>\n",
       "      <th></th>\n",
       "      <th></th>\n",
       "      <th></th>\n",
       "      <th></th>\n",
       "      <th></th>\n",
       "      <th></th>\n",
       "      <th></th>\n",
       "    </tr>\n",
       "  </thead>\n",
       "  <tbody>\n",
       "    <tr>\n",
       "      <th>6901257</th>\n",
       "      <td>5.010635</td>\n",
       "      <td>Apartment</td>\n",
       "      <td>Entire home/apt</td>\n",
       "      <td>3</td>\n",
       "      <td>1.0</td>\n",
       "      <td>Real Bed</td>\n",
       "      <td>strict</td>\n",
       "      <td>True</td>\n",
       "      <td>NYC</td>\n",
       "      <td>Beautiful, sunlit brownstone 1-bedroom in the ...</td>\n",
       "      <td>...</td>\n",
       "      <td>False</td>\n",
       "      <td>False</td>\n",
       "      <td>False</td>\n",
       "      <td>False</td>\n",
       "      <td>True</td>\n",
       "      <td>False</td>\n",
       "      <td>False</td>\n",
       "      <td>False</td>\n",
       "      <td>False</td>\n",
       "      <td>False</td>\n",
       "    </tr>\n",
       "    <tr>\n",
       "      <th>6304928</th>\n",
       "      <td>5.129899</td>\n",
       "      <td>Apartment</td>\n",
       "      <td>Entire home/apt</td>\n",
       "      <td>7</td>\n",
       "      <td>1.0</td>\n",
       "      <td>Real Bed</td>\n",
       "      <td>strict</td>\n",
       "      <td>True</td>\n",
       "      <td>NYC</td>\n",
       "      <td>Enjoy travelling during your stay in Manhattan...</td>\n",
       "      <td>...</td>\n",
       "      <td>False</td>\n",
       "      <td>False</td>\n",
       "      <td>False</td>\n",
       "      <td>False</td>\n",
       "      <td>True</td>\n",
       "      <td>True</td>\n",
       "      <td>False</td>\n",
       "      <td>False</td>\n",
       "      <td>True</td>\n",
       "      <td>False</td>\n",
       "    </tr>\n",
       "  </tbody>\n",
       "</table>\n",
       "<p>2 rows × 63 columns</p>\n",
       "</div>"
      ],
      "text/plain": [
       "         log_price property_type        room_type  accommodates  bathrooms  \\\n",
       "id                                                                           \n",
       "6901257   5.010635     Apartment  Entire home/apt             3        1.0   \n",
       "6304928   5.129899     Apartment  Entire home/apt             7        1.0   \n",
       "\n",
       "         bed_type cancellation_policy  cleaning_fee city  \\\n",
       "id                                                         \n",
       "6901257  Real Bed              strict          True  NYC   \n",
       "6304928  Real Bed              strict          True  NYC   \n",
       "\n",
       "                                               description  ...  \\\n",
       "id                                                          ...   \n",
       "6901257  Beautiful, sunlit brownstone 1-bedroom in the ...  ...   \n",
       "6304928  Enjoy travelling during your stay in Manhattan...  ...   \n",
       "\n",
       "        \"Pets allowed\" \"Wheelchair accessible\" \"Elevator in building\"  \\\n",
       "id                                                                      \n",
       "6901257          False                   False                  False   \n",
       "6304928          False                   False                  False   \n",
       "\n",
       "        \"Wide entryway\" \"Family/kid friendly\" \"Fire extinguisher\"  \\\n",
       "id                                                                  \n",
       "6901257           False                  True               False   \n",
       "6304928           False                  True                True   \n",
       "\n",
       "        \"Pets live on this property\"  \"Cable TV\"  \"Smoke detector\"  \\\n",
       "id                                                                   \n",
       "6901257                        False       False             False   \n",
       "6304928                        False       False              True   \n",
       "\n",
       "        \"Carbon monoxide detector\"  \n",
       "id                                  \n",
       "6901257                      False  \n",
       "6304928                      False  \n",
       "\n",
       "[2 rows x 63 columns]"
      ]
     },
     "execution_count": 372,
     "metadata": {},
     "output_type": "execute_result"
    }
   ],
   "source": [
    "bnb.head(2)"
   ]
  },
  {
   "cell_type": "markdown",
   "metadata": {
    "colab_type": "text",
    "id": "YpJtvBnJJyMZ"
   },
   "source": [
    "### Replacing strings to booleans"
   ]
  },
  {
   "cell_type": "code",
   "execution_count": 373,
   "metadata": {
    "colab": {},
    "colab_type": "code",
    "id": "_jJekQC1JyMa"
   },
   "outputs": [],
   "source": [
    "st_to_bool = {'t':True, 'f':False}\n",
    "bnb = bnb.replace(to_replace=st_to_bool)"
   ]
  },
  {
   "cell_type": "markdown",
   "metadata": {
    "colab_type": "text",
    "id": "RFkzaJwwJyMc"
   },
   "source": [
    "### Replacing strings into dates and numeric"
   ]
  },
  {
   "cell_type": "code",
   "execution_count": 374,
   "metadata": {
    "colab": {},
    "colab_type": "code",
    "id": "FtTgG2Y8JyMc"
   },
   "outputs": [],
   "source": [
    "bnb['first_review'] = pd.to_datetime(bnb['first_review'], errors='coerce')\n",
    "bnb['last_review'] = pd.to_datetime(bnb['last_review'], errors='coerce')"
   ]
  },
  {
   "cell_type": "markdown",
   "metadata": {
    "colab_type": "text",
    "id": "6x3x5MWiJyMe"
   },
   "source": [
    "## Dealing with missing values"
   ]
  },
  {
   "cell_type": "markdown",
   "metadata": {
    "colab_type": "text",
    "id": "b_Ik8_4kJyMf"
   },
   "source": [
    "looking for NaN values in the datafame:"
   ]
  },
  {
   "cell_type": "code",
   "execution_count": 375,
   "metadata": {
    "colab": {},
    "colab_type": "code",
    "id": "D8-lwktMJyMg"
   },
   "outputs": [
    {
     "data": {
      "text/plain": [
       "bathrooms                   200\n",
       "first_review              15864\n",
       "host_has_profile_pic        188\n",
       "host_identity_verified      188\n",
       "host_response_rate        18299\n",
       "host_since                  188\n",
       "last_review               15827\n",
       "neighbourhood              6872\n",
       "review_scores_rating      16722\n",
       "thumbnail_url              8216\n",
       "zipcode                     966\n",
       "bedrooms                     91\n",
       "beds                        131\n",
       "dtype: int64"
      ]
     },
     "execution_count": 375,
     "metadata": {},
     "output_type": "execute_result"
    }
   ],
   "source": [
    "bnb.isna().sum().loc[bnb.isna().sum()>0]"
   ]
  },
  {
   "cell_type": "markdown",
   "metadata": {
    "colab_type": "text",
    "id": "pBE5fadGJyMj"
   },
   "source": [
    "**I'll solve NaN values only for columns that will be in use later in the model**"
   ]
  },
  {
   "cell_type": "markdown",
   "metadata": {
    "colab_type": "text",
    "id": "4r_ZVzRxJyMj"
   },
   "source": [
    "### bedrooms, beds:"
   ]
  },
  {
   "cell_type": "markdown",
   "metadata": {
    "colab_type": "text",
    "id": "M5fzkK5uJyMk"
   },
   "source": [
    "These features have great impact on the price so it's best to drop the rows rather than estimate its value"
   ]
  },
  {
   "cell_type": "code",
   "execution_count": 376,
   "metadata": {
    "colab": {},
    "colab_type": "code",
    "id": "nZ7hdPbHJyMk"
   },
   "outputs": [
    {
     "data": {
      "text/html": [
       "<div>\n",
       "<style scoped>\n",
       "    .dataframe tbody tr th:only-of-type {\n",
       "        vertical-align: middle;\n",
       "    }\n",
       "\n",
       "    .dataframe tbody tr th {\n",
       "        vertical-align: top;\n",
       "    }\n",
       "\n",
       "    .dataframe thead th {\n",
       "        text-align: right;\n",
       "    }\n",
       "</style>\n",
       "<table border=\"1\" class=\"dataframe\">\n",
       "  <thead>\n",
       "    <tr style=\"text-align: right;\">\n",
       "      <th></th>\n",
       "      <th>log_price</th>\n",
       "      <th>beds</th>\n",
       "      <th>bedrooms</th>\n",
       "      <th>accommodates</th>\n",
       "      <th>bathrooms</th>\n",
       "    </tr>\n",
       "  </thead>\n",
       "  <tbody>\n",
       "    <tr>\n",
       "      <th>log_price</th>\n",
       "      <td>1.000000</td>\n",
       "      <td>0.442153</td>\n",
       "      <td>0.473212</td>\n",
       "      <td>0.567574</td>\n",
       "      <td>0.355420</td>\n",
       "    </tr>\n",
       "    <tr>\n",
       "      <th>beds</th>\n",
       "      <td>0.442153</td>\n",
       "      <td>1.000000</td>\n",
       "      <td>0.709416</td>\n",
       "      <td>0.810801</td>\n",
       "      <td>0.525591</td>\n",
       "    </tr>\n",
       "    <tr>\n",
       "      <th>bedrooms</th>\n",
       "      <td>0.473212</td>\n",
       "      <td>0.709416</td>\n",
       "      <td>1.000000</td>\n",
       "      <td>0.709258</td>\n",
       "      <td>0.589935</td>\n",
       "    </tr>\n",
       "    <tr>\n",
       "      <th>accommodates</th>\n",
       "      <td>0.567574</td>\n",
       "      <td>0.810801</td>\n",
       "      <td>0.709258</td>\n",
       "      <td>1.000000</td>\n",
       "      <td>0.505632</td>\n",
       "    </tr>\n",
       "    <tr>\n",
       "      <th>bathrooms</th>\n",
       "      <td>0.355420</td>\n",
       "      <td>0.525591</td>\n",
       "      <td>0.589935</td>\n",
       "      <td>0.505632</td>\n",
       "      <td>1.000000</td>\n",
       "    </tr>\n",
       "  </tbody>\n",
       "</table>\n",
       "</div>"
      ],
      "text/plain": [
       "              log_price      beds  bedrooms  accommodates  bathrooms\n",
       "log_price      1.000000  0.442153  0.473212      0.567574   0.355420\n",
       "beds           0.442153  1.000000  0.709416      0.810801   0.525591\n",
       "bedrooms       0.473212  0.709416  1.000000      0.709258   0.589935\n",
       "accommodates   0.567574  0.810801  0.709258      1.000000   0.505632\n",
       "bathrooms      0.355420  0.525591  0.589935      0.505632   1.000000"
      ]
     },
     "execution_count": 376,
     "metadata": {},
     "output_type": "execute_result"
    }
   ],
   "source": [
    "bnb.loc[:,['log_price','beds','bedrooms','accommodates','bathrooms']].corr()"
   ]
  },
  {
   "cell_type": "code",
   "execution_count": 377,
   "metadata": {
    "colab": {},
    "colab_type": "code",
    "id": "0ichlUjJJyMn"
   },
   "outputs": [
    {
     "name": "stdout",
     "output_type": "stream",
     "text": [
      "(74111, 63)\n"
     ]
    },
    {
     "data": {
      "text/plain": [
       "(73766, 63)"
      ]
     },
     "execution_count": 377,
     "metadata": {},
     "output_type": "execute_result"
    }
   ],
   "source": [
    "print(bnb.shape)\n",
    "bnb = bnb.loc[~(bnb.loc[:,'beds'].isna()) & ~(bnb.loc[:,'bedrooms'].isna()) & ~(bnb.loc[:,'bathrooms'].isna()),:]\n",
    "bnb.shape"
   ]
  },
  {
   "cell_type": "markdown",
   "metadata": {
    "colab_type": "text",
    "id": "lgNQ8pNiJyMq"
   },
   "source": [
    "### neighbourhood"
   ]
  },
  {
   "cell_type": "markdown",
   "metadata": {
    "colab_type": "text",
    "id": "j1CSszRWJyMr"
   },
   "source": [
    "The price may vary between neighbourhoods in a city and we don't want to drop that much data so we'll run a KNN-classification for predicting the neighbourhood name accordding to it's location - `longitude` and `latitude`"
   ]
  },
  {
   "cell_type": "code",
   "execution_count": 378,
   "metadata": {
    "colab": {},
    "colab_type": "code",
    "id": "opZlu7RxJyMr"
   },
   "outputs": [],
   "source": [
    "from sklearn.neighbors import KNeighborsClassifier\n",
    "from sklearn.metrics import confusion_matrix, accuracy_score, precision_recall_fscore_support"
   ]
  },
  {
   "cell_type": "code",
   "execution_count": 379,
   "metadata": {
    "colab": {},
    "colab_type": "code",
    "id": "PgDpqg8KJyMt"
   },
   "outputs": [],
   "source": [
    "# first I'll drop neighbourhoods with less than 10 listings offered in:\n",
    "\n",
    "pivot_hood = bnb.pivot_table(index='neighbourhood', columns='city', values='log_price', aggfunc='count')"
   ]
  },
  {
   "cell_type": "code",
   "execution_count": 380,
   "metadata": {
    "colab": {},
    "colab_type": "code",
    "id": "i7xUtQUPJyMw"
   },
   "outputs": [
    {
     "data": {
      "text/plain": [
       "['Boston', 'Chicago', 'DC', 'LA', 'NYC', 'SF']"
      ]
     },
     "execution_count": 380,
     "metadata": {},
     "output_type": "execute_result"
    }
   ],
   "source": [
    "pivot_hood.columns.tolist()"
   ]
  },
  {
   "cell_type": "code",
   "execution_count": 381,
   "metadata": {
    "colab": {},
    "colab_type": "code",
    "id": "0yegohtSJyMz"
   },
   "outputs": [
    {
     "data": {
      "text/plain": [
       "city\n",
       "Boston      18\n",
       "Chicago     58\n",
       "DC          87\n",
       "LA           7\n",
       "NYC        135\n",
       "SF          24\n",
       "dtype: int64"
      ]
     },
     "execution_count": 381,
     "metadata": {},
     "output_type": "execute_result"
    }
   ],
   "source": [
    "pivot_hood.loc[(pivot_hood.Boston<50) | (pivot_hood.Chicago<50) | (pivot_hood.DC<50) | (pivot_hood.NYC<50) | (pivot_hood.SF<50),:].count()"
   ]
  },
  {
   "cell_type": "code",
   "execution_count": 382,
   "metadata": {
    "colab": {},
    "colab_type": "code",
    "id": "saCuuA0CJyM1"
   },
   "outputs": [
    {
     "data": {
      "text/html": [
       "<div>\n",
       "<style scoped>\n",
       "    .dataframe tbody tr th:only-of-type {\n",
       "        vertical-align: middle;\n",
       "    }\n",
       "\n",
       "    .dataframe tbody tr th {\n",
       "        vertical-align: top;\n",
       "    }\n",
       "\n",
       "    .dataframe thead th {\n",
       "        text-align: right;\n",
       "    }\n",
       "</style>\n",
       "<table border=\"1\" class=\"dataframe\">\n",
       "  <thead>\n",
       "    <tr style=\"text-align: right;\">\n",
       "      <th></th>\n",
       "      <th>log_price</th>\n",
       "      <th>property_type</th>\n",
       "      <th>room_type</th>\n",
       "      <th>accommodates</th>\n",
       "      <th>bathrooms</th>\n",
       "      <th>bed_type</th>\n",
       "      <th>cancellation_policy</th>\n",
       "      <th>cleaning_fee</th>\n",
       "      <th>city</th>\n",
       "      <th>description</th>\n",
       "      <th>...</th>\n",
       "      <th>\"Pets allowed\"</th>\n",
       "      <th>\"Wheelchair accessible\"</th>\n",
       "      <th>\"Elevator in building\"</th>\n",
       "      <th>\"Wide entryway\"</th>\n",
       "      <th>\"Family/kid friendly\"</th>\n",
       "      <th>\"Fire extinguisher\"</th>\n",
       "      <th>\"Pets live on this property\"</th>\n",
       "      <th>\"Cable TV\"</th>\n",
       "      <th>\"Smoke detector\"</th>\n",
       "      <th>\"Carbon monoxide detector\"</th>\n",
       "    </tr>\n",
       "    <tr>\n",
       "      <th>id</th>\n",
       "      <th></th>\n",
       "      <th></th>\n",
       "      <th></th>\n",
       "      <th></th>\n",
       "      <th></th>\n",
       "      <th></th>\n",
       "      <th></th>\n",
       "      <th></th>\n",
       "      <th></th>\n",
       "      <th></th>\n",
       "      <th></th>\n",
       "      <th></th>\n",
       "      <th></th>\n",
       "      <th></th>\n",
       "      <th></th>\n",
       "      <th></th>\n",
       "      <th></th>\n",
       "      <th></th>\n",
       "      <th></th>\n",
       "      <th></th>\n",
       "      <th></th>\n",
       "    </tr>\n",
       "  </thead>\n",
       "  <tbody>\n",
       "    <tr>\n",
       "      <th>6901257</th>\n",
       "      <td>5.010635</td>\n",
       "      <td>Apartment</td>\n",
       "      <td>Entire home/apt</td>\n",
       "      <td>3</td>\n",
       "      <td>1.0</td>\n",
       "      <td>Real Bed</td>\n",
       "      <td>strict</td>\n",
       "      <td>True</td>\n",
       "      <td>NYC</td>\n",
       "      <td>Beautiful, sunlit brownstone 1-bedroom in the ...</td>\n",
       "      <td>...</td>\n",
       "      <td>False</td>\n",
       "      <td>False</td>\n",
       "      <td>False</td>\n",
       "      <td>False</td>\n",
       "      <td>True</td>\n",
       "      <td>False</td>\n",
       "      <td>False</td>\n",
       "      <td>False</td>\n",
       "      <td>False</td>\n",
       "      <td>False</td>\n",
       "    </tr>\n",
       "  </tbody>\n",
       "</table>\n",
       "<p>1 rows × 63 columns</p>\n",
       "</div>"
      ],
      "text/plain": [
       "         log_price property_type        room_type  accommodates  bathrooms  \\\n",
       "id                                                                           \n",
       "6901257   5.010635     Apartment  Entire home/apt             3        1.0   \n",
       "\n",
       "         bed_type cancellation_policy  cleaning_fee city  \\\n",
       "id                                                         \n",
       "6901257  Real Bed              strict          True  NYC   \n",
       "\n",
       "                                               description  ...  \\\n",
       "id                                                          ...   \n",
       "6901257  Beautiful, sunlit brownstone 1-bedroom in the ...  ...   \n",
       "\n",
       "        \"Pets allowed\" \"Wheelchair accessible\" \"Elevator in building\"  \\\n",
       "id                                                                      \n",
       "6901257          False                   False                  False   \n",
       "\n",
       "        \"Wide entryway\" \"Family/kid friendly\"  \"Fire extinguisher\"  \\\n",
       "id                                                                   \n",
       "6901257           False                  True                False   \n",
       "\n",
       "        \"Pets live on this property\"  \"Cable TV\"  \"Smoke detector\"  \\\n",
       "id                                                                   \n",
       "6901257                        False       False             False   \n",
       "\n",
       "        \"Carbon monoxide detector\"  \n",
       "id                                  \n",
       "6901257                      False  \n",
       "\n",
       "[1 rows x 63 columns]"
      ]
     },
     "execution_count": 382,
     "metadata": {},
     "output_type": "execute_result"
    }
   ],
   "source": [
    "bnb_fill_hood = bnb.loc[~bnb.neighbourhood.isna()]\n",
    "bnb_fill_hood.head(1)"
   ]
  },
  {
   "cell_type": "code",
   "execution_count": 383,
   "metadata": {
    "colab": {},
    "colab_type": "code",
    "id": "BpmvzkYyJyM3"
   },
   "outputs": [
    {
     "data": {
      "text/plain": [
       "((66919, 2), (66919,))"
      ]
     },
     "execution_count": 383,
     "metadata": {},
     "output_type": "execute_result"
    }
   ],
   "source": [
    "X = bnb_fill_hood.loc[:,['latitude','longitude']]\n",
    "y = bnb_fill_hood.loc[:,'neighbourhood']\n",
    "X.shape, y.shape"
   ]
  },
  {
   "cell_type": "code",
   "execution_count": 384,
   "metadata": {
    "colab": {},
    "colab_type": "code",
    "id": "Q-3T9AzhJyM5"
   },
   "outputs": [],
   "source": [
    "X_train, X_test, y_train, y_test = train_test_split(X, y, random_state=7, test_size=0.2)"
   ]
  },
  {
   "cell_type": "code",
   "execution_count": 385,
   "metadata": {
    "colab": {},
    "colab_type": "code",
    "id": "L_J9Dx-iJyM6"
   },
   "outputs": [],
   "source": [
    "knn_hood = KNeighborsClassifier(n_neighbors=5).fit(X_train, y_train)"
   ]
  },
  {
   "cell_type": "code",
   "execution_count": 386,
   "metadata": {
    "colab": {},
    "colab_type": "code",
    "id": "UA4Xr0BlJyM8"
   },
   "outputs": [],
   "source": [
    "y_train_pred = knn_hood.predict(X_train)\n",
    "y_test_pred = knn_hood.predict(X_test)"
   ]
  },
  {
   "cell_type": "code",
   "execution_count": 387,
   "metadata": {
    "colab": {},
    "colab_type": "code",
    "id": "7jUguflEJyM9"
   },
   "outputs": [
    {
     "name": "stdout",
     "output_type": "stream",
     "text": [
      "train score: 0.9738675632763613\n",
      "test score: 0.9580095636580992\n"
     ]
    }
   ],
   "source": [
    "print(f'train score: {accuracy_score(y_train_pred,y_train)}')\n",
    "print(f'test score: {accuracy_score(y_test_pred,y_test)}')"
   ]
  },
  {
   "cell_type": "code",
   "execution_count": 388,
   "metadata": {},
   "outputs": [
    {
     "data": {
      "text/plain": [
       "((13384,), (13384,))"
      ]
     },
     "execution_count": 388,
     "metadata": {},
     "output_type": "execute_result"
    }
   ],
   "source": [
    "y_test_pred.shape, y_test.shape"
   ]
  },
  {
   "cell_type": "markdown",
   "metadata": {
    "colab_type": "text",
    "id": "CU0qd_LNJyM_"
   },
   "source": [
    "**There were 619 different neighbourhoods to choose from - excellent scores for train and validation test**"
   ]
  },
  {
   "cell_type": "code",
   "execution_count": 389,
   "metadata": {
    "colab": {},
    "colab_type": "code",
    "id": "0irbT7B6JyNA"
   },
   "outputs": [],
   "source": [
    "fill_hood_index = bnb.index[bnb.neighbourhood.isna()==True]"
   ]
  },
  {
   "cell_type": "code",
   "execution_count": 390,
   "metadata": {
    "colab": {},
    "colab_type": "code",
    "id": "lc1GEfR6JyNB"
   },
   "outputs": [],
   "source": [
    "# matching the neighbourhood prediction for missing values: \n",
    "\n",
    "bnb.loc[fill_hood_index,'neighbourhood'] = knn_hood.predict(bnb.loc[bnb.neighbourhood.isna()].loc[:,['latitude','longitude']])"
   ]
  },
  {
   "cell_type": "code",
   "execution_count": 391,
   "metadata": {
    "colab": {},
    "colab_type": "code",
    "id": "6cxv5LnyJyNE"
   },
   "outputs": [
    {
     "data": {
      "text/plain": [
       "0"
      ]
     },
     "execution_count": 391,
     "metadata": {},
     "output_type": "execute_result"
    }
   ],
   "source": [
    "# checking that there are no more NaN:\n",
    "\n",
    "bnb.neighbourhood.isna().sum()"
   ]
  },
  {
   "cell_type": "markdown",
   "metadata": {
    "colab_type": "text",
    "id": "Bb-kKcKdJyNG"
   },
   "source": [
    "### other features"
   ]
  },
  {
   "cell_type": "code",
   "execution_count": 392,
   "metadata": {
    "colab": {},
    "colab_type": "code",
    "id": "g4hQS61yJyNH"
   },
   "outputs": [],
   "source": [
    "# hosts without response rate meaning he\\she never had a chat with potential guests\n",
    "# and therefore I'll assign zero as response time:\n",
    "bnb.host_response_rate.fillna(value=0,inplace=True)\n",
    "\n",
    "# hosts who don't have a value for profile pic or verified identity will get a False value: \n",
    "bnb.host_has_profile_pic.fillna(value=False,inplace=True)\n",
    "bnb.host_identity_verified.fillna(value=False,inplace=True)\n",
    "\n",
    "# review score is an important value so instead of assigning zero, I'll use the median value:\n",
    "bnb.review_scores_rating.fillna(value=bnb.review_scores_rating.median(),inplace=True)\n"
   ]
  },
  {
   "cell_type": "code",
   "execution_count": 393,
   "metadata": {
    "colab": {},
    "colab_type": "code",
    "id": "bEF6RLaHJyNJ"
   },
   "outputs": [],
   "source": [
    "# transforming the host_response_rate feature to float\n",
    "bnb['host_response_rate'] = bnb['host_response_rate'].apply(lambda rate: float(str(rate).strip('%'))/100)"
   ]
  },
  {
   "cell_type": "code",
   "execution_count": 394,
   "metadata": {
    "colab": {},
    "colab_type": "code",
    "id": "cDFSXzjzJyNK"
   },
   "outputs": [
    {
     "data": {
      "image/png": "[encoded data removed]",
      "text/plain": [
       "<Figure size 432x288 with 1 Axes>"
      ]
     },
     "metadata": {
      "needs_background": "light"
     },
     "output_type": "display_data"
    }
   ],
   "source": [
    "bnb.review_scores_rating.plot(kind='hist')\n",
    "plt.show()"
   ]
  },
  {
   "cell_type": "code",
   "execution_count": 395,
   "metadata": {
    "colab": {},
    "colab_type": "code",
    "id": "cJ2m9xgFJyNM"
   },
   "outputs": [
    {
     "data": {
      "text/plain": [
       "first_review     15782\n",
       "host_since         187\n",
       "last_review      15745\n",
       "thumbnail_url     8155\n",
       "zipcode            951\n",
       "dtype: int64"
      ]
     },
     "execution_count": 395,
     "metadata": {},
     "output_type": "execute_result"
    }
   ],
   "source": [
    "bnb.isna().sum().loc[bnb.isna().sum()>0]"
   ]
  },
  {
   "cell_type": "markdown",
   "metadata": {
    "colab_type": "text",
    "id": "xyo4FBKIJyNP"
   },
   "source": [
    "### Feature engineering"
   ]
  },
  {
   "cell_type": "markdown",
   "metadata": {
    "colab_type": "text",
    "id": "UaQXTNPwJyNP"
   },
   "source": [
    "**I'll remove `property_type` with less than 50 observations**"
   ]
  },
  {
   "cell_type": "code",
   "execution_count": 396,
   "metadata": {
    "colab": {},
    "colab_type": "code",
    "id": "sq_LKcWRJyNQ"
   },
   "outputs": [
    {
     "data": {
      "text/plain": [
       "Index(['Serviced apartment', 'Tent', 'Castle', 'Vacation home', 'Yurt', 'Hut',\n",
       "       'Treehouse', 'Chalet', 'Earth House', 'Tipi', 'Train', 'Cave',\n",
       "       'Casa particular', 'Island', 'Lighthouse'],\n",
       "      dtype='object')"
      ]
     },
     "execution_count": 396,
     "metadata": {},
     "output_type": "execute_result"
    }
   ],
   "source": [
    "type_df = bnb.property_type.value_counts()\n",
    "property_type_del = type_df.loc[type_df<50].index\n",
    "\n",
    "property_type_del"
   ]
  },
  {
   "cell_type": "code",
   "execution_count": 397,
   "metadata": {
    "colab": {},
    "colab_type": "code",
    "id": "eNjOH235JyNS"
   },
   "outputs": [
    {
     "name": "stdout",
     "output_type": "stream",
     "text": [
      "(73766, 63)\n"
     ]
    },
    {
     "data": {
      "text/plain": [
       "(73659, 63)"
      ]
     },
     "execution_count": 397,
     "metadata": {},
     "output_type": "execute_result"
    }
   ],
   "source": [
    "print(bnb.shape)\n",
    "bnb = bnb.loc[~bnb.property_type.isin(property_type_del),:]\n",
    "bnb.shape"
   ]
  },
  {
   "cell_type": "markdown",
   "metadata": {
    "colab_type": "text",
    "id": "rXObQe5WJyNU"
   },
   "source": [
    "### Duplicated rows"
   ]
  },
  {
   "cell_type": "code",
   "execution_count": 398,
   "metadata": {
    "colab": {},
    "colab_type": "code",
    "id": "KCO6LFV3JyNW"
   },
   "outputs": [
    {
     "data": {
      "text/html": [
       "<div>\n",
       "<style scoped>\n",
       "    .dataframe tbody tr th:only-of-type {\n",
       "        vertical-align: middle;\n",
       "    }\n",
       "\n",
       "    .dataframe tbody tr th {\n",
       "        vertical-align: top;\n",
       "    }\n",
       "\n",
       "    .dataframe thead th {\n",
       "        text-align: right;\n",
       "    }\n",
       "</style>\n",
       "<table border=\"1\" class=\"dataframe\">\n",
       "  <thead>\n",
       "    <tr style=\"text-align: right;\">\n",
       "      <th></th>\n",
       "      <th>description</th>\n",
       "      <th>count</th>\n",
       "    </tr>\n",
       "  </thead>\n",
       "  <tbody>\n",
       "    <tr>\n",
       "      <th>0</th>\n",
       "      <td>Hello, I've been running guest house for Korea...</td>\n",
       "      <td>8</td>\n",
       "    </tr>\n",
       "    <tr>\n",
       "      <th>1</th>\n",
       "      <td>Private room in the heart of Little Italy with...</td>\n",
       "      <td>7</td>\n",
       "    </tr>\n",
       "    <tr>\n",
       "      <th>2</th>\n",
       "      <td>Welcome to RMH, a co-ed hostel vibe home for e...</td>\n",
       "      <td>6</td>\n",
       "    </tr>\n",
       "    <tr>\n",
       "      <th>3</th>\n",
       "      <td>OutpostClub is a network of Coliving locations...</td>\n",
       "      <td>5</td>\n",
       "    </tr>\n",
       "    <tr>\n",
       "      <th>4</th>\n",
       "      <td>At the intersection of the charming Leather Di...</td>\n",
       "      <td>5</td>\n",
       "    </tr>\n",
       "  </tbody>\n",
       "</table>\n",
       "</div>"
      ],
      "text/plain": [
       "                                         description  count\n",
       "0  Hello, I've been running guest house for Korea...      8\n",
       "1  Private room in the heart of Little Italy with...      7\n",
       "2  Welcome to RMH, a co-ed hostel vibe home for e...      6\n",
       "3  OutpostClub is a network of Coliving locations...      5\n",
       "4  At the intersection of the charming Leather Di...      5"
      ]
     },
     "execution_count": 398,
     "metadata": {},
     "output_type": "execute_result"
    }
   ],
   "source": [
    "dup_description = bnb.description.value_counts().to_frame().reset_index().rename(columns={'index':'description','description':'count'})\n",
    "dup_description.head()"
   ]
  },
  {
   "cell_type": "markdown",
   "metadata": {
    "colab_type": "text",
    "id": "XAvn3RlrJyNZ"
   },
   "source": [
    "> It's possible that there are duplicated rows in the data set - it's unlikely that two different lists have the exact description.\n"
   ]
  },
  {
   "cell_type": "code",
   "execution_count": 399,
   "metadata": {
    "colab": {},
    "colab_type": "code",
    "id": "VtZsWGaLJyNa"
   },
   "outputs": [
    {
     "name": "stdout",
     "output_type": "stream",
     "text": [
      "(73659, 63)\n"
     ]
    },
    {
     "data": {
      "text/plain": [
       "(73659, 63)"
      ]
     },
     "execution_count": 399,
     "metadata": {},
     "output_type": "execute_result"
    }
   ],
   "source": [
    "print(bnb.shape)\n",
    "bnb.drop_duplicates(subset=['log_price','property_type','room_type','accommodates','bathrooms','bed_type','latitude','longitude','cleaning_fee','city','description']\n",
    "                    ,inplace=True)\n",
    "bnb.shape"
   ]
  },
  {
   "cell_type": "markdown",
   "metadata": {
    "colab_type": "text",
    "id": "HCmsC8GhJyNb"
   },
   "source": [
    "> I didn't find duplicated rows - let's look dipper at the location of listings with the same description"
   ]
  },
  {
   "cell_type": "code",
   "execution_count": 400,
   "metadata": {
    "colab": {},
    "colab_type": "code",
    "id": "qlB_ssRbJyNc"
   },
   "outputs": [
    {
     "data": {
      "text/html": [
       "<div>\n",
       "<style scoped>\n",
       "    .dataframe tbody tr th:only-of-type {\n",
       "        vertical-align: middle;\n",
       "    }\n",
       "\n",
       "    .dataframe tbody tr th {\n",
       "        vertical-align: top;\n",
       "    }\n",
       "\n",
       "    .dataframe thead th {\n",
       "        text-align: right;\n",
       "    }\n",
       "</style>\n",
       "<table border=\"1\" class=\"dataframe\">\n",
       "  <thead>\n",
       "    <tr style=\"text-align: right;\">\n",
       "      <th></th>\n",
       "      <th>longitude</th>\n",
       "      <th>latitude</th>\n",
       "    </tr>\n",
       "    <tr>\n",
       "      <th>id</th>\n",
       "      <th></th>\n",
       "      <th></th>\n",
       "    </tr>\n",
       "  </thead>\n",
       "  <tbody>\n",
       "    <tr>\n",
       "      <th>19802577</th>\n",
       "      <td>-118.276606</td>\n",
       "      <td>34.053100</td>\n",
       "    </tr>\n",
       "    <tr>\n",
       "      <th>1210748</th>\n",
       "      <td>-118.278478</td>\n",
       "      <td>34.051996</td>\n",
       "    </tr>\n",
       "    <tr>\n",
       "      <th>114203</th>\n",
       "      <td>-118.276467</td>\n",
       "      <td>34.053377</td>\n",
       "    </tr>\n",
       "    <tr>\n",
       "      <th>10925833</th>\n",
       "      <td>-118.277101</td>\n",
       "      <td>34.052114</td>\n",
       "    </tr>\n",
       "    <tr>\n",
       "      <th>9129016</th>\n",
       "      <td>-118.278387</td>\n",
       "      <td>34.051446</td>\n",
       "    </tr>\n",
       "    <tr>\n",
       "      <th>7873771</th>\n",
       "      <td>-118.277737</td>\n",
       "      <td>34.053357</td>\n",
       "    </tr>\n",
       "    <tr>\n",
       "      <th>15344934</th>\n",
       "      <td>-118.278568</td>\n",
       "      <td>34.051674</td>\n",
       "    </tr>\n",
       "    <tr>\n",
       "      <th>17624124</th>\n",
       "      <td>-118.276372</td>\n",
       "      <td>34.053081</td>\n",
       "    </tr>\n",
       "  </tbody>\n",
       "</table>\n",
       "</div>"
      ],
      "text/plain": [
       "           longitude   latitude\n",
       "id                             \n",
       "19802577 -118.276606  34.053100\n",
       "1210748  -118.278478  34.051996\n",
       "114203   -118.276467  34.053377\n",
       "10925833 -118.277101  34.052114\n",
       "9129016  -118.278387  34.051446\n",
       "7873771  -118.277737  34.053357\n",
       "15344934 -118.278568  34.051674\n",
       "17624124 -118.276372  34.053081"
      ]
     },
     "execution_count": 400,
     "metadata": {},
     "output_type": "execute_result"
    }
   ],
   "source": [
    "bnb.loc[bnb.description == dup_description.iloc[0].description,['longitude','latitude']]"
   ]
  },
  {
   "cell_type": "markdown",
   "metadata": {
    "colab_type": "text",
    "id": "C4phtHwXJyNf"
   },
   "source": [
    "> There are minor changes in the `longitude` and `latitude` but the listings are the same so I'll drop them"
   ]
  },
  {
   "cell_type": "code",
   "execution_count": 401,
   "metadata": {
    "colab": {},
    "colab_type": "code",
    "id": "hkrmyp5DJyNf"
   },
   "outputs": [
    {
     "name": "stdout",
     "output_type": "stream",
     "text": [
      "(73659, 63)\n"
     ]
    },
    {
     "data": {
      "text/plain": [
       "(73433, 63)"
      ]
     },
     "execution_count": 401,
     "metadata": {},
     "output_type": "execute_result"
    }
   ],
   "source": [
    "print(bnb.shape)\n",
    "bnb = bnb.drop_duplicates(subset=['log_price','property_type','room_type','accommodates','bathrooms','bed_type','cleaning_fee','city','description'])\n",
    "bnb.shape"
   ]
  },
  {
   "cell_type": "code",
   "execution_count": 402,
   "metadata": {
    "colab": {},
    "colab_type": "code",
    "id": "pV0PlHlaJyNh"
   },
   "outputs": [
    {
     "data": {
      "text/html": [
       "<div>\n",
       "<style scoped>\n",
       "    .dataframe tbody tr th:only-of-type {\n",
       "        vertical-align: middle;\n",
       "    }\n",
       "\n",
       "    .dataframe tbody tr th {\n",
       "        vertical-align: top;\n",
       "    }\n",
       "\n",
       "    .dataframe thead th {\n",
       "        text-align: right;\n",
       "    }\n",
       "</style>\n",
       "<table border=\"1\" class=\"dataframe\">\n",
       "  <thead>\n",
       "    <tr style=\"text-align: right;\">\n",
       "      <th></th>\n",
       "      <th>log_price</th>\n",
       "      <th>accommodates</th>\n",
       "      <th>bathrooms</th>\n",
       "      <th>host_response_rate</th>\n",
       "      <th>latitude</th>\n",
       "      <th>longitude</th>\n",
       "      <th>number_of_reviews</th>\n",
       "      <th>review_scores_rating</th>\n",
       "      <th>bedrooms</th>\n",
       "      <th>beds</th>\n",
       "    </tr>\n",
       "  </thead>\n",
       "  <tbody>\n",
       "    <tr>\n",
       "      <th>count</th>\n",
       "      <td>73433.000000</td>\n",
       "      <td>73433.00000</td>\n",
       "      <td>73433.000000</td>\n",
       "      <td>73433.000000</td>\n",
       "      <td>73433.000000</td>\n",
       "      <td>73433.000000</td>\n",
       "      <td>73433.000000</td>\n",
       "      <td>73433.000000</td>\n",
       "      <td>73433.000000</td>\n",
       "      <td>73433.000000</td>\n",
       "    </tr>\n",
       "    <tr>\n",
       "      <th>mean</th>\n",
       "      <td>4.783953</td>\n",
       "      <td>3.15952</td>\n",
       "      <td>1.235017</td>\n",
       "      <td>0.709905</td>\n",
       "      <td>38.450870</td>\n",
       "      <td>-92.366768</td>\n",
       "      <td>20.875819</td>\n",
       "      <td>94.515313</td>\n",
       "      <td>1.267060</td>\n",
       "      <td>1.711955</td>\n",
       "    </tr>\n",
       "    <tr>\n",
       "      <th>std</th>\n",
       "      <td>0.716905</td>\n",
       "      <td>2.15362</td>\n",
       "      <td>0.581009</td>\n",
       "      <td>0.431248</td>\n",
       "      <td>3.078510</td>\n",
       "      <td>21.698254</td>\n",
       "      <td>37.785252</td>\n",
       "      <td>6.929446</td>\n",
       "      <td>0.853638</td>\n",
       "      <td>1.253730</td>\n",
       "    </tr>\n",
       "    <tr>\n",
       "      <th>min</th>\n",
       "      <td>0.000000</td>\n",
       "      <td>1.00000</td>\n",
       "      <td>0.000000</td>\n",
       "      <td>0.000000</td>\n",
       "      <td>33.338905</td>\n",
       "      <td>-122.511500</td>\n",
       "      <td>0.000000</td>\n",
       "      <td>20.000000</td>\n",
       "      <td>0.000000</td>\n",
       "      <td>0.000000</td>\n",
       "    </tr>\n",
       "    <tr>\n",
       "      <th>1%</th>\n",
       "      <td>3.367296</td>\n",
       "      <td>1.00000</td>\n",
       "      <td>1.000000</td>\n",
       "      <td>0.000000</td>\n",
       "      <td>33.790416</td>\n",
       "      <td>-122.464538</td>\n",
       "      <td>0.000000</td>\n",
       "      <td>66.000000</td>\n",
       "      <td>0.000000</td>\n",
       "      <td>1.000000</td>\n",
       "    </tr>\n",
       "    <tr>\n",
       "      <th>25%</th>\n",
       "      <td>4.317488</td>\n",
       "      <td>2.00000</td>\n",
       "      <td>1.000000</td>\n",
       "      <td>0.000000</td>\n",
       "      <td>34.129138</td>\n",
       "      <td>-118.342387</td>\n",
       "      <td>1.000000</td>\n",
       "      <td>93.000000</td>\n",
       "      <td>1.000000</td>\n",
       "      <td>1.000000</td>\n",
       "    </tr>\n",
       "    <tr>\n",
       "      <th>50%</th>\n",
       "      <td>4.718499</td>\n",
       "      <td>2.00000</td>\n",
       "      <td>1.000000</td>\n",
       "      <td>1.000000</td>\n",
       "      <td>40.662565</td>\n",
       "      <td>-76.996324</td>\n",
       "      <td>6.000000</td>\n",
       "      <td>96.000000</td>\n",
       "      <td>1.000000</td>\n",
       "      <td>1.000000</td>\n",
       "    </tr>\n",
       "    <tr>\n",
       "      <th>75%</th>\n",
       "      <td>5.220356</td>\n",
       "      <td>4.00000</td>\n",
       "      <td>1.000000</td>\n",
       "      <td>1.000000</td>\n",
       "      <td>40.746301</td>\n",
       "      <td>-73.954634</td>\n",
       "      <td>23.000000</td>\n",
       "      <td>99.000000</td>\n",
       "      <td>1.000000</td>\n",
       "      <td>2.000000</td>\n",
       "    </tr>\n",
       "    <tr>\n",
       "      <th>99%</th>\n",
       "      <td>6.897382</td>\n",
       "      <td>12.00000</td>\n",
       "      <td>3.500000</td>\n",
       "      <td>1.000000</td>\n",
       "      <td>42.358506</td>\n",
       "      <td>-71.058922</td>\n",
       "      <td>178.000000</td>\n",
       "      <td>100.000000</td>\n",
       "      <td>4.000000</td>\n",
       "      <td>6.000000</td>\n",
       "    </tr>\n",
       "    <tr>\n",
       "      <th>max</th>\n",
       "      <td>7.600402</td>\n",
       "      <td>16.00000</td>\n",
       "      <td>8.000000</td>\n",
       "      <td>1.000000</td>\n",
       "      <td>42.390437</td>\n",
       "      <td>-70.985047</td>\n",
       "      <td>605.000000</td>\n",
       "      <td>100.000000</td>\n",
       "      <td>10.000000</td>\n",
       "      <td>18.000000</td>\n",
       "    </tr>\n",
       "  </tbody>\n",
       "</table>\n",
       "</div>"
      ],
      "text/plain": [
       "          log_price  accommodates     bathrooms  host_response_rate  \\\n",
       "count  73433.000000   73433.00000  73433.000000        73433.000000   \n",
       "mean       4.783953       3.15952      1.235017            0.709905   \n",
       "std        0.716905       2.15362      0.581009            0.431248   \n",
       "min        0.000000       1.00000      0.000000            0.000000   \n",
       "1%         3.367296       1.00000      1.000000            0.000000   \n",
       "25%        4.317488       2.00000      1.000000            0.000000   \n",
       "50%        4.718499       2.00000      1.000000            1.000000   \n",
       "75%        5.220356       4.00000      1.000000            1.000000   \n",
       "99%        6.897382      12.00000      3.500000            1.000000   \n",
       "max        7.600402      16.00000      8.000000            1.000000   \n",
       "\n",
       "           latitude     longitude  number_of_reviews  review_scores_rating  \\\n",
       "count  73433.000000  73433.000000       73433.000000          73433.000000   \n",
       "mean      38.450870    -92.366768          20.875819             94.515313   \n",
       "std        3.078510     21.698254          37.785252              6.929446   \n",
       "min       33.338905   -122.511500           0.000000             20.000000   \n",
       "1%        33.790416   -122.464538           0.000000             66.000000   \n",
       "25%       34.129138   -118.342387           1.000000             93.000000   \n",
       "50%       40.662565    -76.996324           6.000000             96.000000   \n",
       "75%       40.746301    -73.954634          23.000000             99.000000   \n",
       "99%       42.358506    -71.058922         178.000000            100.000000   \n",
       "max       42.390437    -70.985047         605.000000            100.000000   \n",
       "\n",
       "           bedrooms          beds  \n",
       "count  73433.000000  73433.000000  \n",
       "mean       1.267060      1.711955  \n",
       "std        0.853638      1.253730  \n",
       "min        0.000000      0.000000  \n",
       "1%         0.000000      1.000000  \n",
       "25%        1.000000      1.000000  \n",
       "50%        1.000000      1.000000  \n",
       "75%        1.000000      2.000000  \n",
       "99%        4.000000      6.000000  \n",
       "max       10.000000     18.000000  "
      ]
     },
     "execution_count": 402,
     "metadata": {},
     "output_type": "execute_result"
    }
   ],
   "source": [
    "bnb.describe([0.01,0.25,0.5,0.75,0.99])"
   ]
  },
  {
   "cell_type": "markdown",
   "metadata": {
    "colab_type": "text",
    "id": "ODuY-BQRJyNl"
   },
   "source": [
    "> It seems there are no outliers but there are some missing values"
   ]
  },
  {
   "cell_type": "code",
   "execution_count": 403,
   "metadata": {
    "colab": {},
    "colab_type": "code",
    "id": "-C3TkfZtJyNi"
   },
   "outputs": [],
   "source": [
    "bnb['price'] = np.exp(bnb.log_price)"
   ]
  },
  {
   "cell_type": "code",
   "execution_count": 404,
   "metadata": {
    "colab": {},
    "colab_type": "code",
    "id": "GwPegRL_JyNk"
   },
   "outputs": [
    {
     "data": {
      "text/html": [
       "<div>\n",
       "<style scoped>\n",
       "    .dataframe tbody tr th:only-of-type {\n",
       "        vertical-align: middle;\n",
       "    }\n",
       "\n",
       "    .dataframe tbody tr th {\n",
       "        vertical-align: top;\n",
       "    }\n",
       "\n",
       "    .dataframe thead th {\n",
       "        text-align: right;\n",
       "    }\n",
       "</style>\n",
       "<table border=\"1\" class=\"dataframe\">\n",
       "  <thead>\n",
       "    <tr style=\"text-align: right;\">\n",
       "      <th></th>\n",
       "      <th>log_price</th>\n",
       "      <th>property_type</th>\n",
       "      <th>room_type</th>\n",
       "      <th>accommodates</th>\n",
       "      <th>bathrooms</th>\n",
       "      <th>bed_type</th>\n",
       "      <th>cancellation_policy</th>\n",
       "      <th>cleaning_fee</th>\n",
       "      <th>city</th>\n",
       "      <th>description</th>\n",
       "      <th>...</th>\n",
       "      <th>\"Wheelchair accessible\"</th>\n",
       "      <th>\"Elevator in building\"</th>\n",
       "      <th>\"Wide entryway\"</th>\n",
       "      <th>\"Family/kid friendly\"</th>\n",
       "      <th>\"Fire extinguisher\"</th>\n",
       "      <th>\"Pets live on this property\"</th>\n",
       "      <th>\"Cable TV\"</th>\n",
       "      <th>\"Smoke detector\"</th>\n",
       "      <th>\"Carbon monoxide detector\"</th>\n",
       "      <th>price</th>\n",
       "    </tr>\n",
       "    <tr>\n",
       "      <th>id</th>\n",
       "      <th></th>\n",
       "      <th></th>\n",
       "      <th></th>\n",
       "      <th></th>\n",
       "      <th></th>\n",
       "      <th></th>\n",
       "      <th></th>\n",
       "      <th></th>\n",
       "      <th></th>\n",
       "      <th></th>\n",
       "      <th></th>\n",
       "      <th></th>\n",
       "      <th></th>\n",
       "      <th></th>\n",
       "      <th></th>\n",
       "      <th></th>\n",
       "      <th></th>\n",
       "      <th></th>\n",
       "      <th></th>\n",
       "      <th></th>\n",
       "      <th></th>\n",
       "    </tr>\n",
       "  </thead>\n",
       "  <tbody>\n",
       "    <tr>\n",
       "      <th>6901257</th>\n",
       "      <td>5.010635</td>\n",
       "      <td>Apartment</td>\n",
       "      <td>Entire home/apt</td>\n",
       "      <td>3</td>\n",
       "      <td>1.0</td>\n",
       "      <td>Real Bed</td>\n",
       "      <td>strict</td>\n",
       "      <td>True</td>\n",
       "      <td>NYC</td>\n",
       "      <td>Beautiful, sunlit brownstone 1-bedroom in the ...</td>\n",
       "      <td>...</td>\n",
       "      <td>False</td>\n",
       "      <td>False</td>\n",
       "      <td>False</td>\n",
       "      <td>True</td>\n",
       "      <td>False</td>\n",
       "      <td>False</td>\n",
       "      <td>False</td>\n",
       "      <td>False</td>\n",
       "      <td>False</td>\n",
       "      <td>150.0</td>\n",
       "    </tr>\n",
       "    <tr>\n",
       "      <th>6304928</th>\n",
       "      <td>5.129899</td>\n",
       "      <td>Apartment</td>\n",
       "      <td>Entire home/apt</td>\n",
       "      <td>7</td>\n",
       "      <td>1.0</td>\n",
       "      <td>Real Bed</td>\n",
       "      <td>strict</td>\n",
       "      <td>True</td>\n",
       "      <td>NYC</td>\n",
       "      <td>Enjoy travelling during your stay in Manhattan...</td>\n",
       "      <td>...</td>\n",
       "      <td>False</td>\n",
       "      <td>False</td>\n",
       "      <td>False</td>\n",
       "      <td>True</td>\n",
       "      <td>True</td>\n",
       "      <td>False</td>\n",
       "      <td>False</td>\n",
       "      <td>True</td>\n",
       "      <td>False</td>\n",
       "      <td>169.0</td>\n",
       "    </tr>\n",
       "  </tbody>\n",
       "</table>\n",
       "<p>2 rows × 64 columns</p>\n",
       "</div>"
      ],
      "text/plain": [
       "         log_price property_type        room_type  accommodates  bathrooms  \\\n",
       "id                                                                           \n",
       "6901257   5.010635     Apartment  Entire home/apt             3        1.0   \n",
       "6304928   5.129899     Apartment  Entire home/apt             7        1.0   \n",
       "\n",
       "         bed_type cancellation_policy  cleaning_fee city  \\\n",
       "id                                                         \n",
       "6901257  Real Bed              strict          True  NYC   \n",
       "6304928  Real Bed              strict          True  NYC   \n",
       "\n",
       "                                               description  ...  \\\n",
       "id                                                          ...   \n",
       "6901257  Beautiful, sunlit brownstone 1-bedroom in the ...  ...   \n",
       "6304928  Enjoy travelling during your stay in Manhattan...  ...   \n",
       "\n",
       "        \"Wheelchair accessible\"  \"Elevator in building\"  \"Wide entryway\"  \\\n",
       "id                                                                         \n",
       "6901257                   False                   False            False   \n",
       "6304928                   False                   False            False   \n",
       "\n",
       "         \"Family/kid friendly\" \"Fire extinguisher\"  \\\n",
       "id                                                   \n",
       "6901257                   True               False   \n",
       "6304928                   True                True   \n",
       "\n",
       "         \"Pets live on this property\" \"Cable TV\"  \"Smoke detector\"  \\\n",
       "id                                                                   \n",
       "6901257                         False      False             False   \n",
       "6304928                         False      False              True   \n",
       "\n",
       "         \"Carbon monoxide detector\"  price  \n",
       "id                                          \n",
       "6901257                       False  150.0  \n",
       "6304928                       False  169.0  \n",
       "\n",
       "[2 rows x 64 columns]"
      ]
     },
     "execution_count": 404,
     "metadata": {},
     "output_type": "execute_result"
    }
   ],
   "source": [
    "bnb.head(2)"
   ]
  },
  {
   "cell_type": "code",
   "execution_count": 405,
   "metadata": {
    "colab": {},
    "colab_type": "code",
    "id": "7rBeloSMJyNm"
   },
   "outputs": [
    {
     "data": {
      "image/png": "[encoded data removed]",
      "text/plain": [
       "<Figure size 864x432 with 2 Axes>"
      ]
     },
     "metadata": {
      "needs_background": "light"
     },
     "output_type": "display_data"
    }
   ],
   "source": [
    "bnb_corr = bnb.loc[:,['log_price','accommodates','bathrooms','cleaning_fee','number_of_reviews','review_scores_rating','bedrooms','beds']].corr()\n",
    "\n",
    "plt.figure(figsize=(12,6))\n",
    "sns.heatmap(bnb_corr, cmap='coolwarm',annot=True)\n",
    "plt.title('Airbnb Listing - Correlation Between features',fontdict={'fontsize':20}, pad=15)\n",
    "plt.show()"
   ]
  },
  {
   "cell_type": "code",
   "execution_count": 406,
   "metadata": {
    "colab": {},
    "colab_type": "code",
    "id": "5jVwQxLVJyNo"
   },
   "outputs": [
    {
     "data": {
      "image/png": "[encoded data removed]",
      "text/plain": [
       "<Figure size 1080x1080 with 42 Axes>"
      ]
     },
     "metadata": {
      "needs_background": "light"
     },
     "output_type": "display_data"
    }
   ],
   "source": [
    "sns.pairplot(data=bnb.loc[:,['price','log_price','beds','accommodates','review_scores_rating','number_of_reviews']])\n",
    "plt.title('Airbnb Listing - Correlation Between features',fontdict={'fontsize':20})\n",
    "plt.show()"
   ]
  },
  {
   "cell_type": "markdown",
   "metadata": {
    "colab_type": "text",
    "id": "qZt7TCUOJyNq"
   },
   "source": [
    "> `log_price` is more sutable for regression analysis than regular `price` "
   ]
  },
  {
   "cell_type": "markdown",
   "metadata": {
    "colab_type": "text",
    "id": "0KrtDyxzJyNq"
   },
   "source": [
    "## Modeling"
   ]
  },
  {
   "cell_type": "markdown",
   "metadata": {
    "colab_type": "text",
    "id": "UYJTrvGqJyNq"
   },
   "source": [
    "dealing with non-numeric values:"
   ]
  },
  {
   "cell_type": "code",
   "execution_count": 407,
   "metadata": {
    "colab": {},
    "colab_type": "code",
    "id": "eSs7N3aWJyNr"
   },
   "outputs": [],
   "source": [
    "# removing irrelevant columns for the model:\n",
    "\n",
    "bnb_model = bnb.drop(columns=['price','description','first_review','host_since','last_review',\n",
    "                              'latitude', 'longitude', 'name','thumbnail_url', 'zipcode'])\n",
    "\n",
    "\n",
    "# assigning dummies for categorical features:\n",
    "\n",
    "bnb_model = pd.get_dummies(bnb_model, drop_first=True)"
   ]
  },
  {
   "cell_type": "code",
   "execution_count": 408,
   "metadata": {
    "colab": {},
    "colab_type": "code",
    "id": "seGagS_RJyNs"
   },
   "outputs": [
    {
     "data": {
      "text/plain": [
       "(73433, 699)"
      ]
     },
     "execution_count": 408,
     "metadata": {},
     "output_type": "execute_result"
    }
   ],
   "source": [
    "bnb_model.shape"
   ]
  },
  {
   "cell_type": "code",
   "execution_count": 409,
   "metadata": {
    "colab": {},
    "colab_type": "code",
    "id": "mxIlA8OiJyNt"
   },
   "outputs": [],
   "source": [
    "X = bnb_model.drop(columns='log_price')\n",
    "y = bnb_model.log_price"
   ]
  },
  {
   "cell_type": "code",
   "execution_count": 410,
   "metadata": {
    "colab": {},
    "colab_type": "code",
    "id": "18jtdPeBJyNu"
   },
   "outputs": [],
   "source": [
    "X_train, X_test, y_train, y_test = train_test_split(X, y, test_size=0.2, random_state=7)"
   ]
  },
  {
   "cell_type": "markdown",
   "metadata": {
    "colab_type": "text",
    "id": "MBOqih6JJyNv"
   },
   "source": [
    "### Linear Regression"
   ]
  },
  {
   "cell_type": "code",
   "execution_count": 411,
   "metadata": {
    "colab": {},
    "colab_type": "code",
    "id": "wB0hlOhBJyNw"
   },
   "outputs": [],
   "source": [
    "bnb_lm = LinearRegression().fit(X_train, y_train)"
   ]
  },
  {
   "cell_type": "code",
   "execution_count": 412,
   "metadata": {
    "colab": {},
    "colab_type": "code",
    "id": "U-wVUiC5JyNy"
   },
   "outputs": [],
   "source": [
    "y_train_pred = bnb_lm.predict(X_train)\n",
    "y_test_pred = bnb_lm.predict(X_test)"
   ]
  },
  {
   "cell_type": "code",
   "execution_count": 413,
   "metadata": {
    "colab": {},
    "colab_type": "code",
    "id": "Ku6SVh1JJyNz"
   },
   "outputs": [],
   "source": [
    "rmse_train = np.sqrt(mean_squared_error(y_train_pred, y_train))\n",
    "rmse_test = np.sqrt(mean_squared_error(y_test_pred, y_test))"
   ]
  },
  {
   "cell_type": "code",
   "execution_count": 414,
   "metadata": {
    "colab": {},
    "colab_type": "code",
    "id": "_GXyROP3JyNz"
   },
   "outputs": [
    {
     "name": "stdout",
     "output_type": "stream",
     "text": [
      "rmse of train set: 0.4048810535835567\n",
      "rmse of test set: 0.4112444615899534\n"
     ]
    }
   ],
   "source": [
    "print(f'rmse of train set: {rmse_train}')\n",
    "print(f'rmse of test set: {rmse_test}')"
   ]
  },
  {
   "cell_type": "markdown",
   "metadata": {
    "colab_type": "text",
    "id": "2DlHU5yfJyN2"
   },
   "source": [
    "> The model is not overfitted\n",
    "\n",
    "> I'll try to get better results using grid search"
   ]
  },
  {
   "cell_type": "markdown",
   "metadata": {},
   "source": [
    "Applying GridSearch for better hyper paramters tuning:"
   ]
  },
  {
   "cell_type": "code",
   "execution_count": 415,
   "metadata": {
    "colab": {},
    "colab_type": "code",
    "id": "7znz1Y74JyN2"
   },
   "outputs": [
    {
     "data": {
      "text/plain": [
       "GridSearchCV(cv=10, error_score='raise-deprecating',\n",
       "       estimator=Pipeline(memory=None,\n",
       "     steps=[('scaler', MinMaxScaler(copy=True, feature_range=(0, 1))), ('model', Ridge(alpha=1.0, copy_X=True, fit_intercept=True, max_iter=None,\n",
       "   normalize=False, random_state=None, solver='auto', tol=0.001))]),\n",
       "       fit_params=None, iid='warn', n_jobs=-1,\n",
       "       param_grid={'scaler': [MinMaxScaler(copy=True, feature_range=(0, 1)), MaxAbsScaler(copy=True), StandardScaler(copy=True, with_mean=True, with_std=True)], 'model': [Lasso(alpha=1.0, copy_X=True, fit_intercept=True, max_iter=1000,\n",
       "   normalize=False, positive=False, precompute=False, random_state=None...one,\n",
       "   normalize=False, random_state=None, solver='auto', tol=0.001)], 'model__alpha': range(0, 5)},\n",
       "       pre_dispatch='2*n_jobs', refit=True, return_train_score=False,\n",
       "       scoring='neg_mean_squared_error', verbose=0)"
      ]
     },
     "execution_count": 415,
     "metadata": {},
     "output_type": "execute_result"
    }
   ],
   "source": [
    "steps = [('scaler', MinMaxScaler()), \n",
    "         ('model', Ridge())]\n",
    "\n",
    "pipe = Pipeline(steps)\n",
    "\n",
    "params = {'scaler': [MinMaxScaler(), MaxAbsScaler(), StandardScaler()], \n",
    "         'model': [Lasso(), Ridge()], # alpha=0 for LinearRegression\n",
    "         'model__alpha': range(0,5)}\n",
    "\n",
    "gs = GridSearchCV(pipe, param_grid=params, cv=10, return_train_score=False,\n",
    "                  scoring='neg_mean_squared_error', n_jobs=-1)\n",
    "gs.fit(X_train, y_train)"
   ]
  },
  {
   "cell_type": "code",
   "execution_count": 416,
   "metadata": {
    "colab": {},
    "colab_type": "code",
    "id": "TTiYDCK4JyN3"
   },
   "outputs": [
    {
     "data": {
      "text/plain": [
       "{'model': Ridge(alpha=3, copy_X=True, fit_intercept=True, max_iter=None,\n",
       "    normalize=False, random_state=None, solver='auto', tol=0.001),\n",
       " 'model__alpha': 3,\n",
       " 'scaler': MinMaxScaler(copy=True, feature_range=(0, 1))}"
      ]
     },
     "execution_count": 416,
     "metadata": {},
     "output_type": "execute_result"
    }
   ],
   "source": [
    "gs.best_params_"
   ]
  },
  {
   "cell_type": "code",
   "execution_count": 417,
   "metadata": {},
   "outputs": [
    {
     "data": {
      "text/plain": [
       "-0.1684507951120057"
      ]
     },
     "execution_count": 417,
     "metadata": {},
     "output_type": "execute_result"
    }
   ],
   "source": [
    "gs.best_score_"
   ]
  },
  {
   "cell_type": "code",
   "execution_count": 418,
   "metadata": {},
   "outputs": [
    {
     "data": {
      "text/plain": [
       "-0.1684507951120057"
      ]
     },
     "execution_count": 418,
     "metadata": {},
     "output_type": "execute_result"
    }
   ],
   "source": [
    "gs.best_score_"
   ]
  },
  {
   "cell_type": "code",
   "execution_count": 419,
   "metadata": {
    "colab": {},
    "colab_type": "code",
    "id": "NdanD_EmJyN4"
   },
   "outputs": [
    {
     "name": "stdout",
     "output_type": "stream",
     "text": [
      "rmse of train set: 0.4054416808701725\n",
      "rmse of test set: 0.41039127642815987\n"
     ]
    }
   ],
   "source": [
    "lr_model = gs.best_estimator_\n",
    "\n",
    "y_train_pred = lr_model.predict(X_train)\n",
    "y_test_pred = lr_model.predict(X_test)\n",
    "\n",
    "rmse_train = np.sqrt(mean_squared_error(y_train_pred, y_train))\n",
    "rmse_test = np.sqrt(mean_squared_error(y_test_pred, y_test))\n",
    "\n",
    "print(f'rmse of train set: {rmse_train}')\n",
    "print(f'rmse of test set: {rmse_test}')"
   ]
  },
  {
   "cell_type": "markdown",
   "metadata": {},
   "source": [
    "> The results indeed improved!"
   ]
  },
  {
   "cell_type": "markdown",
   "metadata": {},
   "source": [
    "#### Exploring GS results:"
   ]
  },
  {
   "cell_type": "code",
   "execution_count": 420,
   "metadata": {},
   "outputs": [
    {
     "data": {
      "text/html": [
       "<div>\n",
       "<style scoped>\n",
       "    .dataframe tbody tr th:only-of-type {\n",
       "        vertical-align: middle;\n",
       "    }\n",
       "\n",
       "    .dataframe tbody tr th {\n",
       "        vertical-align: top;\n",
       "    }\n",
       "\n",
       "    .dataframe thead th {\n",
       "        text-align: right;\n",
       "    }\n",
       "</style>\n",
       "<table border=\"1\" class=\"dataframe\">\n",
       "  <thead>\n",
       "    <tr style=\"text-align: right;\">\n",
       "      <th></th>\n",
       "      <th>params</th>\n",
       "      <th>mean_test_score</th>\n",
       "      <th>std_test_score</th>\n",
       "    </tr>\n",
       "  </thead>\n",
       "  <tbody>\n",
       "    <tr>\n",
       "      <th>24</th>\n",
       "      <td>{'model': Ridge(alpha=3, copy_X=True, fit_inte...</td>\n",
       "      <td>0.410428</td>\n",
       "      <td>0.083736</td>\n",
       "    </tr>\n",
       "    <tr>\n",
       "      <th>25</th>\n",
       "      <td>{'model': Ridge(alpha=3, copy_X=True, fit_inte...</td>\n",
       "      <td>0.410428</td>\n",
       "      <td>0.083740</td>\n",
       "    </tr>\n",
       "    <tr>\n",
       "      <th>27</th>\n",
       "      <td>{'model': Ridge(alpha=3, copy_X=True, fit_inte...</td>\n",
       "      <td>0.410453</td>\n",
       "      <td>0.083863</td>\n",
       "    </tr>\n",
       "    <tr>\n",
       "      <th>28</th>\n",
       "      <td>{'model': Ridge(alpha=3, copy_X=True, fit_inte...</td>\n",
       "      <td>0.410453</td>\n",
       "      <td>0.083869</td>\n",
       "    </tr>\n",
       "    <tr>\n",
       "      <th>21</th>\n",
       "      <td>{'model': Ridge(alpha=3, copy_X=True, fit_inte...</td>\n",
       "      <td>0.410468</td>\n",
       "      <td>0.083626</td>\n",
       "    </tr>\n",
       "  </tbody>\n",
       "</table>\n",
       "</div>"
      ],
      "text/plain": [
       "                                               params  mean_test_score  \\\n",
       "24  {'model': Ridge(alpha=3, copy_X=True, fit_inte...         0.410428   \n",
       "25  {'model': Ridge(alpha=3, copy_X=True, fit_inte...         0.410428   \n",
       "27  {'model': Ridge(alpha=3, copy_X=True, fit_inte...         0.410453   \n",
       "28  {'model': Ridge(alpha=3, copy_X=True, fit_inte...         0.410453   \n",
       "21  {'model': Ridge(alpha=3, copy_X=True, fit_inte...         0.410468   \n",
       "\n",
       "    std_test_score  \n",
       "24        0.083736  \n",
       "25        0.083740  \n",
       "27        0.083863  \n",
       "28        0.083869  \n",
       "21        0.083626  "
      ]
     },
     "execution_count": 420,
     "metadata": {},
     "output_type": "execute_result"
    }
   ],
   "source": [
    "grid_results = pd.DataFrame(gs.cv_results_)\n",
    "df_scores = grid_results.sort_values(by='mean_test_score',ascending=False)[['params', 'mean_test_score', 'std_test_score' ]].head(10)\n",
    "df_scores[['mean_test_score', 'std_test_score']] = np.sqrt(df_scores[['mean_test_score', 'std_test_score']].abs())\n",
    "df_scores.head()"
   ]
  },
  {
   "cell_type": "code",
   "execution_count": 421,
   "metadata": {},
   "outputs": [],
   "source": [
    "grid_mean_std = grid_results.loc[:,['mean_score_time','std_score_time']]"
   ]
  },
  {
   "cell_type": "code",
   "execution_count": 422,
   "metadata": {},
   "outputs": [
    {
     "data": {
      "image/png": "[encoded data removed]",
      "text/plain": [
       "<Figure size 432x288 with 1 Axes>"
      ]
     },
     "metadata": {
      "needs_background": "light"
     },
     "output_type": "display_data"
    }
   ],
   "source": [
    "sns.scatterplot(x=grid_mean_std.mean_score_time,y=grid_mean_std.std_score_time,\n",
    "               alpha=0.7)\n",
    "plt.xlim(0,0.6)\n",
    "\n",
    "plt.axvline(x=grid_mean_std['mean_score_time'].min(), c='red', linestyle='dashed',\n",
    "            label=\"min_std\")\n",
    "\n",
    "plt.show()"
   ]
  },
  {
   "cell_type": "code",
   "execution_count": 423,
   "metadata": {},
   "outputs": [],
   "source": [
    "results = {}\n",
    "results['lr'] = rmse_test.round(2)"
   ]
  },
  {
   "cell_type": "markdown",
   "metadata": {
    "colab_type": "text",
    "id": "kp0oWW0WJyN5"
   },
   "source": [
    "### Decision Tree Regression"
   ]
  },
  {
   "cell_type": "code",
   "execution_count": 424,
   "metadata": {
    "colab": {},
    "colab_type": "code",
    "id": "TcSWuEUOJyN6"
   },
   "outputs": [],
   "source": [
    "X_train, X_test, y_train, y_test = train_test_split(X, y, test_size=0.2, random_state=7)"
   ]
  },
  {
   "cell_type": "code",
   "execution_count": 425,
   "metadata": {
    "colab": {},
    "colab_type": "code",
    "id": "RJ5-Ki9WJyN8"
   },
   "outputs": [],
   "source": [
    "parameters = {'max_depth':[5,8,12],\n",
    "              'min_samples_leaf': [5, 10, 15, 20, 25]}"
   ]
  },
  {
   "cell_type": "code",
   "execution_count": 426,
   "metadata": {
    "colab": {},
    "colab_type": "code",
    "id": "RJ5-Ki9WJyN8"
   },
   "outputs": [],
   "source": [
    "grid_search = GridSearchCV(DecisionTreeRegressor(), parameters, cv=10, return_train_score=False,\n",
    "                           n_jobs=-1, scoring='neg_mean_squared_error')"
   ]
  },
  {
   "cell_type": "code",
   "execution_count": 427,
   "metadata": {},
   "outputs": [
    {
     "data": {
      "text/plain": [
       "GridSearchCV(cv=10, error_score='raise-deprecating',\n",
       "       estimator=DecisionTreeRegressor(criterion='mse', max_depth=None, max_features=None,\n",
       "           max_leaf_nodes=None, min_impurity_decrease=0.0,\n",
       "           min_impurity_split=None, min_samples_leaf=1,\n",
       "           min_samples_split=2, min_weight_fraction_leaf=0.0,\n",
       "           presort=False, random_state=None, splitter='best'),\n",
       "       fit_params=None, iid='warn', n_jobs=-1,\n",
       "       param_grid={'max_depth': [5, 8, 12], 'min_samples_leaf': [5, 10, 15, 20, 25]},\n",
       "       pre_dispatch='2*n_jobs', refit=True, return_train_score=False,\n",
       "       scoring='neg_mean_squared_error', verbose=0)"
      ]
     },
     "execution_count": 427,
     "metadata": {},
     "output_type": "execute_result"
    }
   ],
   "source": [
    "grid_search.fit(X_train,y_train)"
   ]
  },
  {
   "cell_type": "code",
   "execution_count": 428,
   "metadata": {},
   "outputs": [],
   "source": [
    "tree_estimator = grid_search.best_estimator_"
   ]
  },
  {
   "cell_type": "code",
   "execution_count": 429,
   "metadata": {},
   "outputs": [
    {
     "name": "stdout",
     "output_type": "stream",
     "text": [
      "rmse of train set: 0.4281723556634301\n",
      "rmse of test set: 0.45013722718537075\n"
     ]
    }
   ],
   "source": [
    "y_train_pred = tree_estimator.predict(X_train)\n",
    "y_test_pred = tree_estimator.predict(X_test)\n",
    "\n",
    "rmse_train = np.sqrt(mean_squared_error(y_train_pred, y_train))\n",
    "rmse_test = np.sqrt(mean_squared_error(y_test_pred, y_test))\n",
    "\n",
    "print(f'rmse of train set: {rmse_train}')\n",
    "print(f'rmse of test set: {rmse_test}')"
   ]
  },
  {
   "cell_type": "code",
   "execution_count": 430,
   "metadata": {},
   "outputs": [
    {
     "data": {
      "text/html": [
       "<div>\n",
       "<style scoped>\n",
       "    .dataframe tbody tr th:only-of-type {\n",
       "        vertical-align: middle;\n",
       "    }\n",
       "\n",
       "    .dataframe tbody tr th {\n",
       "        vertical-align: top;\n",
       "    }\n",
       "\n",
       "    .dataframe thead th {\n",
       "        text-align: right;\n",
       "    }\n",
       "</style>\n",
       "<table border=\"1\" class=\"dataframe\">\n",
       "  <thead>\n",
       "    <tr style=\"text-align: right;\">\n",
       "      <th></th>\n",
       "      <th>params</th>\n",
       "      <th>mean_test_score</th>\n",
       "      <th>std_test_score</th>\n",
       "    </tr>\n",
       "  </thead>\n",
       "  <tbody>\n",
       "    <tr>\n",
       "      <th>14</th>\n",
       "      <td>{'max_depth': 12, 'min_samples_leaf': 25}</td>\n",
       "      <td>0.450784</td>\n",
       "      <td>0.080737</td>\n",
       "    </tr>\n",
       "    <tr>\n",
       "      <th>13</th>\n",
       "      <td>{'max_depth': 12, 'min_samples_leaf': 20}</td>\n",
       "      <td>0.452020</td>\n",
       "      <td>0.079069</td>\n",
       "    </tr>\n",
       "    <tr>\n",
       "      <th>12</th>\n",
       "      <td>{'max_depth': 12, 'min_samples_leaf': 15}</td>\n",
       "      <td>0.452572</td>\n",
       "      <td>0.076499</td>\n",
       "    </tr>\n",
       "    <tr>\n",
       "      <th>11</th>\n",
       "      <td>{'max_depth': 12, 'min_samples_leaf': 10}</td>\n",
       "      <td>0.454445</td>\n",
       "      <td>0.076472</td>\n",
       "    </tr>\n",
       "    <tr>\n",
       "      <th>9</th>\n",
       "      <td>{'max_depth': 8, 'min_samples_leaf': 25}</td>\n",
       "      <td>0.460244</td>\n",
       "      <td>0.082503</td>\n",
       "    </tr>\n",
       "  </tbody>\n",
       "</table>\n",
       "</div>"
      ],
      "text/plain": [
       "                                       params  mean_test_score  std_test_score\n",
       "14  {'max_depth': 12, 'min_samples_leaf': 25}         0.450784        0.080737\n",
       "13  {'max_depth': 12, 'min_samples_leaf': 20}         0.452020        0.079069\n",
       "12  {'max_depth': 12, 'min_samples_leaf': 15}         0.452572        0.076499\n",
       "11  {'max_depth': 12, 'min_samples_leaf': 10}         0.454445        0.076472\n",
       "9    {'max_depth': 8, 'min_samples_leaf': 25}         0.460244        0.082503"
      ]
     },
     "execution_count": 430,
     "metadata": {},
     "output_type": "execute_result"
    }
   ],
   "source": [
    "grid_results = pd.DataFrame(grid_search.cv_results_)\n",
    "df_scores = grid_results.sort_values(by='rank_test_score')[['params', 'mean_test_score', 'std_test_score' ]].head(10)\n",
    "df_scores[['mean_test_score', 'std_test_score']] = np.sqrt(df_scores[['mean_test_score', 'std_test_score']].abs())\n",
    "df_scores.head()"
   ]
  },
  {
   "cell_type": "code",
   "execution_count": 431,
   "metadata": {},
   "outputs": [
    {
     "data": {
      "image/png": "[encoded data removed]",
      "text/plain": [
       "<Figure size 432x288 with 1 Axes>"
      ]
     },
     "metadata": {
      "needs_background": "light"
     },
     "output_type": "display_data"
    }
   ],
   "source": [
    "sns.scatterplot(x=df_scores.mean_test_score,y=df_scores.std_test_score)\n",
    "plt.axvline(x=df_scores['mean_test_score'].min(), c='red', linestyle='dashed',\n",
    "            label=\"min_std\")\n",
    "\n",
    "plt.show()"
   ]
  },
  {
   "cell_type": "code",
   "execution_count": 432,
   "metadata": {},
   "outputs": [],
   "source": [
    "results['dt'] = rmse_test.round(2)"
   ]
  },
  {
   "cell_type": "markdown",
   "metadata": {},
   "source": [
    "### Random Forest"
   ]
  },
  {
   "cell_type": "code",
   "execution_count": 433,
   "metadata": {},
   "outputs": [],
   "source": [
    "from sklearn.ensemble import RandomForestRegressor"
   ]
  },
  {
   "cell_type": "code",
   "execution_count": 434,
   "metadata": {
    "colab": {},
    "colab_type": "code",
    "id": "RJ5-Ki9WJyN8"
   },
   "outputs": [],
   "source": [
    "parameters = {'max_depth':[5,8,10],\n",
    "              'min_samples_leaf': [5, 10, 15, 20, 25]}"
   ]
  },
  {
   "cell_type": "code",
   "execution_count": 435,
   "metadata": {
    "colab": {},
    "colab_type": "code",
    "id": "RJ5-Ki9WJyN8"
   },
   "outputs": [],
   "source": [
    "grid_search = GridSearchCV(RandomForestRegressor(n_estimators=100), parameters, cv=10, return_train_score=False,\n",
    "                           n_jobs=-1, scoring='neg_mean_squared_error')"
   ]
  },
  {
   "cell_type": "code",
   "execution_count": 436,
   "metadata": {},
   "outputs": [
    {
     "data": {
      "text/plain": [
       "GridSearchCV(cv=10, error_score='raise-deprecating',\n",
       "       estimator=RandomForestRegressor(bootstrap=True, criterion='mse', max_depth=None,\n",
       "           max_features='auto', max_leaf_nodes=None,\n",
       "           min_impurity_decrease=0.0, min_impurity_split=None,\n",
       "           min_samples_leaf=1, min_samples_split=2,\n",
       "           min_weight_fraction_leaf=0.0, n_estimators=100, n_jobs=None,\n",
       "           oob_score=False, random_state=None, verbose=0, warm_start=False),\n",
       "       fit_params=None, iid='warn', n_jobs=-1,\n",
       "       param_grid={'max_depth': [5, 8, 10], 'min_samples_leaf': [5, 10, 15, 20, 25]},\n",
       "       pre_dispatch='2*n_jobs', refit=True, return_train_score=False,\n",
       "       scoring='neg_mean_squared_error', verbose=0)"
      ]
     },
     "execution_count": 436,
     "metadata": {},
     "output_type": "execute_result"
    }
   ],
   "source": [
    "grid_search.fit(X_train,y_train)"
   ]
  },
  {
   "cell_type": "code",
   "execution_count": 437,
   "metadata": {},
   "outputs": [],
   "source": [
    "rf_estimator = grid_search.best_estimator_"
   ]
  },
  {
   "cell_type": "code",
   "execution_count": 438,
   "metadata": {},
   "outputs": [
    {
     "name": "stdout",
     "output_type": "stream",
     "text": [
      "rmse of train set: 0.4157810415043975\n",
      "rmse of test set: 0.4351491978704057\n"
     ]
    }
   ],
   "source": [
    "y_train_pred = rf_estimator.predict(X_train)\n",
    "y_test_pred = rf_estimator.predict(X_test)\n",
    "\n",
    "rmse_train = np.sqrt(mean_squared_error(y_train_pred, y_train))\n",
    "rf_rmse_test = np.sqrt(mean_squared_error(y_test_pred, y_test))\n",
    "\n",
    "print(f'rmse of train set: {rmse_train}')\n",
    "print(f'rmse of test set: {rf_rmse_test}')"
   ]
  },
  {
   "cell_type": "code",
   "execution_count": 439,
   "metadata": {},
   "outputs": [
    {
     "data": {
      "text/html": [
       "<div>\n",
       "<style scoped>\n",
       "    .dataframe tbody tr th:only-of-type {\n",
       "        vertical-align: middle;\n",
       "    }\n",
       "\n",
       "    .dataframe tbody tr th {\n",
       "        vertical-align: top;\n",
       "    }\n",
       "\n",
       "    .dataframe thead th {\n",
       "        text-align: right;\n",
       "    }\n",
       "</style>\n",
       "<table border=\"1\" class=\"dataframe\">\n",
       "  <thead>\n",
       "    <tr style=\"text-align: right;\">\n",
       "      <th></th>\n",
       "      <th>params</th>\n",
       "      <th>mean_test_score</th>\n",
       "      <th>std_test_score</th>\n",
       "    </tr>\n",
       "  </thead>\n",
       "  <tbody>\n",
       "    <tr>\n",
       "      <th>10</th>\n",
       "      <td>{'max_depth': 10, 'min_samples_leaf': 5}</td>\n",
       "      <td>0.678783</td>\n",
       "      <td>0.288723</td>\n",
       "    </tr>\n",
       "    <tr>\n",
       "      <th>11</th>\n",
       "      <td>{'max_depth': 10, 'min_samples_leaf': 10}</td>\n",
       "      <td>0.674126</td>\n",
       "      <td>0.276535</td>\n",
       "    </tr>\n",
       "    <tr>\n",
       "      <th>12</th>\n",
       "      <td>{'max_depth': 10, 'min_samples_leaf': 15}</td>\n",
       "      <td>0.672735</td>\n",
       "      <td>0.276584</td>\n",
       "    </tr>\n",
       "    <tr>\n",
       "      <th>13</th>\n",
       "      <td>{'max_depth': 10, 'min_samples_leaf': 20}</td>\n",
       "      <td>0.672324</td>\n",
       "      <td>0.281193</td>\n",
       "    </tr>\n",
       "    <tr>\n",
       "      <th>14</th>\n",
       "      <td>{'max_depth': 10, 'min_samples_leaf': 25}</td>\n",
       "      <td>0.671404</td>\n",
       "      <td>0.284142</td>\n",
       "    </tr>\n",
       "  </tbody>\n",
       "</table>\n",
       "</div>"
      ],
      "text/plain": [
       "                                       params  mean_test_score  std_test_score\n",
       "10   {'max_depth': 10, 'min_samples_leaf': 5}         0.678783        0.288723\n",
       "11  {'max_depth': 10, 'min_samples_leaf': 10}         0.674126        0.276535\n",
       "12  {'max_depth': 10, 'min_samples_leaf': 15}         0.672735        0.276584\n",
       "13  {'max_depth': 10, 'min_samples_leaf': 20}         0.672324        0.281193\n",
       "14  {'max_depth': 10, 'min_samples_leaf': 25}         0.671404        0.284142"
      ]
     },
     "execution_count": 439,
     "metadata": {},
     "output_type": "execute_result"
    }
   ],
   "source": [
    "grid_results = pd.DataFrame(grid_search.cv_results_)\n",
    "rf_df_scores = grid_results.sort_values(by='rank_test_score')[['params', 'mean_test_score', 'std_test_score' ]].head(10)\n",
    "rf_df_scores[['mean_test_score', 'std_test_score']] = np.sqrt(df_scores[['mean_test_score', 'std_test_score']].abs())\n",
    "rf_df_scores.head()"
   ]
  },
  {
   "cell_type": "code",
   "execution_count": 440,
   "metadata": {},
   "outputs": [
    {
     "data": {
      "image/png": "[encoded data removed]",
      "text/plain": [
       "<Figure size 432x288 with 1 Axes>"
      ]
     },
     "metadata": {
      "needs_background": "light"
     },
     "output_type": "display_data"
    }
   ],
   "source": [
    "sns.scatterplot(x=rf_df_scores.mean_test_score,y=rf_df_scores.std_test_score)\n",
    "plt.axvline(x=rf_df_scores['mean_test_score'].min(), c='red', linestyle='dashed',\n",
    "            label=\"min_std\")\n",
    "\n",
    "plt.show()"
   ]
  },
  {
   "cell_type": "code",
   "execution_count": 441,
   "metadata": {},
   "outputs": [],
   "source": [
    "results['rf'] = rf_rmse_test.round(2)"
   ]
  },
  {
   "cell_type": "markdown",
   "metadata": {},
   "source": [
    "### XGBOOST"
   ]
  },
  {
   "cell_type": "code",
   "execution_count": 442,
   "metadata": {},
   "outputs": [],
   "source": [
    "import xgboost as xgb"
   ]
  },
  {
   "cell_type": "code",
   "execution_count": 443,
   "metadata": {},
   "outputs": [],
   "source": [
    "data_dmatrix = xgb.DMatrix(data=X,label=y)"
   ]
  },
  {
   "cell_type": "code",
   "execution_count": 444,
   "metadata": {},
   "outputs": [],
   "source": [
    "# xg_reg = xgb.XGBRegressor(objective ='reg:linear', colsample_bytree = 0.3, learning_rate = 0.1,\n",
    "#                 max_depth = 4, alpha = 10, n_estimators = 200, n_jobs=-1)"
   ]
  },
  {
   "cell_type": "code",
   "execution_count": 445,
   "metadata": {},
   "outputs": [
    {
     "name": "stdout",
     "output_type": "stream",
     "text": [
      "[22:59:20] WARNING: C:/Jenkins/workspace/xgboost-win64_release_0.90/src/objective/regression_obj.cu:152: reg:linear is now deprecated in favor of reg:squarederror.\n",
      "[22:59:20] WARNING: C:/Jenkins/workspace/xgboost-win64_release_0.90/src/objective/regression_obj.cu:152: reg:linear is now deprecated in favor of reg:squarederror.\n",
      "[22:59:21] WARNING: C:/Jenkins/workspace/xgboost-win64_release_0.90/src/objective/regression_obj.cu:152: reg:linear is now deprecated in favor of reg:squarederror.\n",
      "[22:59:21] WARNING: C:/Jenkins/workspace/xgboost-win64_release_0.90/src/objective/regression_obj.cu:152: reg:linear is now deprecated in favor of reg:squarederror.\n",
      "[22:59:22] WARNING: C:/Jenkins/workspace/xgboost-win64_release_0.90/src/objective/regression_obj.cu:152: reg:linear is now deprecated in favor of reg:squarederror.\n"
     ]
    }
   ],
   "source": [
    "params = {\"objective\":\"reg:linear\",'colsample_bytree': 0.3,'learning_rate': 0.1,\n",
    "          'booster':'gblinear', 'max_depth': 4, 'alpha': 10}\n",
    "\n",
    "xgb_cv_results = xgb.cv(dtrain=data_dmatrix, params=params, nfold=5,\n",
    "                    num_boost_round=200,early_stopping_rounds=10,\n",
    "                    metrics=\"rmse\", as_pandas=True, seed=123)"
   ]
  },
  {
   "cell_type": "code",
   "execution_count": 446,
   "metadata": {},
   "outputs": [
    {
     "data": {
      "text/html": [
       "<div>\n",
       "<style scoped>\n",
       "    .dataframe tbody tr th:only-of-type {\n",
       "        vertical-align: middle;\n",
       "    }\n",
       "\n",
       "    .dataframe tbody tr th {\n",
       "        vertical-align: top;\n",
       "    }\n",
       "\n",
       "    .dataframe thead th {\n",
       "        text-align: right;\n",
       "    }\n",
       "</style>\n",
       "<table border=\"1\" class=\"dataframe\">\n",
       "  <thead>\n",
       "    <tr style=\"text-align: right;\">\n",
       "      <th></th>\n",
       "      <th>train-rmse-mean</th>\n",
       "      <th>train-rmse-std</th>\n",
       "      <th>test-rmse-mean</th>\n",
       "      <th>test-rmse-std</th>\n",
       "    </tr>\n",
       "  </thead>\n",
       "  <tbody>\n",
       "    <tr>\n",
       "      <th>195</th>\n",
       "      <td>0.716586</td>\n",
       "      <td>0.001001</td>\n",
       "      <td>0.716589</td>\n",
       "      <td>0.003856</td>\n",
       "    </tr>\n",
       "    <tr>\n",
       "      <th>196</th>\n",
       "      <td>0.716582</td>\n",
       "      <td>0.001001</td>\n",
       "      <td>0.716585</td>\n",
       "      <td>0.003857</td>\n",
       "    </tr>\n",
       "    <tr>\n",
       "      <th>197</th>\n",
       "      <td>0.716579</td>\n",
       "      <td>0.001001</td>\n",
       "      <td>0.716582</td>\n",
       "      <td>0.003857</td>\n",
       "    </tr>\n",
       "    <tr>\n",
       "      <th>198</th>\n",
       "      <td>0.716576</td>\n",
       "      <td>0.001001</td>\n",
       "      <td>0.716579</td>\n",
       "      <td>0.003857</td>\n",
       "    </tr>\n",
       "    <tr>\n",
       "      <th>199</th>\n",
       "      <td>0.716573</td>\n",
       "      <td>0.001001</td>\n",
       "      <td>0.716575</td>\n",
       "      <td>0.003858</td>\n",
       "    </tr>\n",
       "  </tbody>\n",
       "</table>\n",
       "</div>"
      ],
      "text/plain": [
       "     train-rmse-mean  train-rmse-std  test-rmse-mean  test-rmse-std\n",
       "195         0.716586        0.001001        0.716589       0.003856\n",
       "196         0.716582        0.001001        0.716585       0.003857\n",
       "197         0.716579        0.001001        0.716582       0.003857\n",
       "198         0.716576        0.001001        0.716579       0.003857\n",
       "199         0.716573        0.001001        0.716575       0.003858"
      ]
     },
     "execution_count": 446,
     "metadata": {},
     "output_type": "execute_result"
    }
   ],
   "source": [
    "xgb_cv_results.tail()"
   ]
  },
  {
   "cell_type": "code",
   "execution_count": 447,
   "metadata": {},
   "outputs": [],
   "source": [
    "results['xgb'] = xgb_cv_results['test-rmse-mean'].min().round(2)"
   ]
  },
  {
   "cell_type": "markdown",
   "metadata": {},
   "source": [
    "### Results:"
   ]
  },
  {
   "cell_type": "code",
   "execution_count": 448,
   "metadata": {},
   "outputs": [
    {
     "data": {
      "text/html": [
       "<div>\n",
       "<style scoped>\n",
       "    .dataframe tbody tr th:only-of-type {\n",
       "        vertical-align: middle;\n",
       "    }\n",
       "\n",
       "    .dataframe tbody tr th {\n",
       "        vertical-align: top;\n",
       "    }\n",
       "\n",
       "    .dataframe thead th {\n",
       "        text-align: right;\n",
       "    }\n",
       "</style>\n",
       "<table border=\"1\" class=\"dataframe\">\n",
       "  <thead>\n",
       "    <tr style=\"text-align: right;\">\n",
       "      <th></th>\n",
       "      <th>rmse_score</th>\n",
       "    </tr>\n",
       "  </thead>\n",
       "  <tbody>\n",
       "    <tr>\n",
       "      <th>lr</th>\n",
       "      <td>0.41</td>\n",
       "    </tr>\n",
       "    <tr>\n",
       "      <th>rf</th>\n",
       "      <td>0.44</td>\n",
       "    </tr>\n",
       "    <tr>\n",
       "      <th>dt</th>\n",
       "      <td>0.45</td>\n",
       "    </tr>\n",
       "    <tr>\n",
       "      <th>xgb</th>\n",
       "      <td>0.72</td>\n",
       "    </tr>\n",
       "  </tbody>\n",
       "</table>\n",
       "</div>"
      ],
      "text/plain": [
       "     rmse_score\n",
       "lr         0.41\n",
       "rf         0.44\n",
       "dt         0.45\n",
       "xgb        0.72"
      ]
     },
     "execution_count": 448,
     "metadata": {},
     "output_type": "execute_result"
    }
   ],
   "source": [
    "scores_df = pd.DataFrame(data=results.values(), index=results.keys())\n",
    "scores_df.rename(columns={0:'rmse_score'},inplace=True)\n",
    "scores_df.sort_values('rmse_score')"
   ]
  },
  {
   "cell_type": "markdown",
   "metadata": {},
   "source": [
    "According to the scorer chosen (rmse) the best model for predicting AirBNB is LinearRegression. I'll try achieving better results using adaboost linear regression."
   ]
  },
  {
   "cell_type": "markdown",
   "metadata": {},
   "source": [
    "**Applying AdaBoost on the best estimator yet:**"
   ]
  },
  {
   "cell_type": "code",
   "execution_count": 449,
   "metadata": {},
   "outputs": [],
   "source": [
    "from sklearn.ensemble import AdaBoostRegressor\n",
    "\n",
    "clf_base = gs.best_estimator_  \n",
    "\n",
    "clf_adaboost = AdaBoostRegressor(base_estimator=clf_base, n_estimators=150,\n",
    "                                 learning_rate=0.8, loss='linear', random_state=7)"
   ]
  },
  {
   "cell_type": "code",
   "execution_count": 450,
   "metadata": {},
   "outputs": [
    {
     "data": {
      "text/plain": [
       "AdaBoostRegressor(base_estimator=Pipeline(memory=None,\n",
       "     steps=[('scaler', MinMaxScaler(copy=True, feature_range=(0, 1))), ('model', Ridge(alpha=3, copy_X=True, fit_intercept=True, max_iter=None,\n",
       "   normalize=False, random_state=None, solver='auto', tol=0.001))]),\n",
       "         learning_rate=0.8, loss='linear', n_estimators=150,\n",
       "         random_state=7)"
      ]
     },
     "execution_count": 450,
     "metadata": {},
     "output_type": "execute_result"
    }
   ],
   "source": [
    "clf_adaboost.fit(X_train, y_train)"
   ]
  },
  {
   "cell_type": "code",
   "execution_count": 451,
   "metadata": {},
   "outputs": [],
   "source": [
    "y_test_pred_adaboost = clf_adaboost.predict(X_test)\n",
    "y_train_pred_adaboost = clf_adaboost.predict(X_train)"
   ]
  },
  {
   "cell_type": "code",
   "execution_count": 452,
   "metadata": {},
   "outputs": [
    {
     "name": "stdout",
     "output_type": "stream",
     "text": [
      "rmse of train set: 0.4157810415043975\n",
      "rmse of test set: 0.4351491978704057\n"
     ]
    }
   ],
   "source": [
    "adaboost_rmse_train = np.sqrt(mean_squared_error(y_train_pred, y_train))\n",
    "adaboost_rmse_test = np.sqrt(mean_squared_error(y_test_pred, y_test))\n",
    "\n",
    "print(f'rmse of train set: {adaboost_rmse_train}')\n",
    "print(f'rmse of test set: {adaboost_rmse_test}')"
   ]
  },
  {
   "cell_type": "code",
   "execution_count": 453,
   "metadata": {},
   "outputs": [],
   "source": [
    "scores_df.loc['boost_lr'] = round(adaboost_rmse_test,2)"
   ]
  },
  {
   "cell_type": "code",
   "execution_count": 454,
   "metadata": {},
   "outputs": [
    {
     "data": {
      "text/html": [
       "<div>\n",
       "<style scoped>\n",
       "    .dataframe tbody tr th:only-of-type {\n",
       "        vertical-align: middle;\n",
       "    }\n",
       "\n",
       "    .dataframe tbody tr th {\n",
       "        vertical-align: top;\n",
       "    }\n",
       "\n",
       "    .dataframe thead th {\n",
       "        text-align: right;\n",
       "    }\n",
       "</style>\n",
       "<table border=\"1\" class=\"dataframe\">\n",
       "  <thead>\n",
       "    <tr style=\"text-align: right;\">\n",
       "      <th></th>\n",
       "      <th>rmse_score</th>\n",
       "    </tr>\n",
       "  </thead>\n",
       "  <tbody>\n",
       "    <tr>\n",
       "      <th>lr</th>\n",
       "      <td>0.41</td>\n",
       "    </tr>\n",
       "    <tr>\n",
       "      <th>rf</th>\n",
       "      <td>0.44</td>\n",
       "    </tr>\n",
       "    <tr>\n",
       "      <th>boost_lr</th>\n",
       "      <td>0.44</td>\n",
       "    </tr>\n",
       "    <tr>\n",
       "      <th>dt</th>\n",
       "      <td>0.45</td>\n",
       "    </tr>\n",
       "    <tr>\n",
       "      <th>xgb</th>\n",
       "      <td>0.72</td>\n",
       "    </tr>\n",
       "  </tbody>\n",
       "</table>\n",
       "</div>"
      ],
      "text/plain": [
       "          rmse_score\n",
       "lr              0.41\n",
       "rf              0.44\n",
       "boost_lr        0.44\n",
       "dt              0.45\n",
       "xgb             0.72"
      ]
     },
     "execution_count": 454,
     "metadata": {},
     "output_type": "execute_result"
    }
   ],
   "source": [
    "scores_df.sort_values('rmse_score')"
   ]
  },
  {
   "cell_type": "markdown",
   "metadata": {},
   "source": [
    "Adaptive boosting model fail achieving better results."
   ]
  }
 ],
 "metadata": {
  "colab": {
   "name": "Project 3_1305.ipynb",
   "provenance": [],
   "version": "0.3.2"
  },
  "kernelspec": {
   "display_name": "Python 3",
   "language": "python",
   "name": "python3"
  },
  "language_info": {
   "codemirror_mode": {
    "name": "ipython",
    "version": 3
   },
   "file_extension": ".py",
   "mimetype": "text/x-python",
   "name": "python",
   "nbconvert_exporter": "python",
   "pygments_lexer": "ipython3",
   "version": "3.7.3"
  }
 },
 "nbformat": 4,
 "nbformat_minor": 2
}
